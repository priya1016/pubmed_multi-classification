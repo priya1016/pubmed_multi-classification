{
 "cells": [
  {
   "attachments": {},
   "cell_type": "markdown",
   "metadata": {},
   "source": [
    "This notebook post processes the descriptor mapper raw file."
   ]
  },
  {
   "cell_type": "code",
   "execution_count": 13,
   "metadata": {},
   "outputs": [],
   "source": [
    "import pandas as pd\n",
    "import ast\n",
    "data = pd.read_csv('descriptor_mapper_raw.csv')"
   ]
  },
  {
   "cell_type": "code",
   "execution_count": 14,
   "metadata": {},
   "outputs": [],
   "source": [
    "data_nona = data.dropna(subset=['Tree Number']).copy()\n",
    "data_nona[\"Tree Number\"] = data_nona[\"Tree Number\"].apply(ast.literal_eval)"
   ]
  },
  {
   "cell_type": "code",
   "execution_count": 15,
   "metadata": {},
   "outputs": [
    {
     "data": {
      "text/html": [
       "<div>\n",
       "<style scoped>\n",
       "    .dataframe tbody tr th:only-of-type {\n",
       "        vertical-align: middle;\n",
       "    }\n",
       "\n",
       "    .dataframe tbody tr th {\n",
       "        vertical-align: top;\n",
       "    }\n",
       "\n",
       "    .dataframe thead th {\n",
       "        text-align: right;\n",
       "    }\n",
       "</style>\n",
       "<table border=\"1\" class=\"dataframe\">\n",
       "  <thead>\n",
       "    <tr style=\"text-align: right;\">\n",
       "      <th></th>\n",
       "      <th>Unique ID</th>\n",
       "      <th>Descriptor Name</th>\n",
       "      <th>Tree Number</th>\n",
       "    </tr>\n",
       "  </thead>\n",
       "  <tbody>\n",
       "    <tr>\n",
       "      <th>0</th>\n",
       "      <td>D000001</td>\n",
       "      <td>Calcimycin</td>\n",
       "      <td>[D03.633.100.221.173]</td>\n",
       "    </tr>\n",
       "    <tr>\n",
       "      <th>1</th>\n",
       "      <td>D000002</td>\n",
       "      <td>Temefos</td>\n",
       "      <td>[D02.705.400.625.800, D02.705.539.345.800, D02...</td>\n",
       "    </tr>\n",
       "    <tr>\n",
       "      <th>2</th>\n",
       "      <td>D000003</td>\n",
       "      <td>Abattoirs</td>\n",
       "      <td>[J01.576.423.200.700.100, J03.540.020]</td>\n",
       "    </tr>\n",
       "    <tr>\n",
       "      <th>3</th>\n",
       "      <td>D000004</td>\n",
       "      <td>Abbreviations as Topic</td>\n",
       "      <td>[L01.559.598.400.556.131]</td>\n",
       "    </tr>\n",
       "    <tr>\n",
       "      <th>4</th>\n",
       "      <td>D000005</td>\n",
       "      <td>Abdomen</td>\n",
       "      <td>[A01.923.047]</td>\n",
       "    </tr>\n",
       "  </tbody>\n",
       "</table>\n",
       "</div>"
      ],
      "text/plain": [
       "  Unique ID         Descriptor Name  \\\n",
       "0   D000001              Calcimycin   \n",
       "1   D000002                 Temefos   \n",
       "2   D000003               Abattoirs   \n",
       "3   D000004  Abbreviations as Topic   \n",
       "4   D000005                 Abdomen   \n",
       "\n",
       "                                         Tree Number  \n",
       "0                              [D03.633.100.221.173]  \n",
       "1  [D02.705.400.625.800, D02.705.539.345.800, D02...  \n",
       "2             [J01.576.423.200.700.100, J03.540.020]  \n",
       "3                          [L01.559.598.400.556.131]  \n",
       "4                                      [A01.923.047]  "
      ]
     },
     "execution_count": 15,
     "metadata": {},
     "output_type": "execute_result"
    }
   ],
   "source": [
    "data_nona.head()"
   ]
  },
  {
   "cell_type": "code",
   "execution_count": 16,
   "metadata": {},
   "outputs": [],
   "source": [
    "data_processed = data_nona.explode('Tree Number')"
   ]
  },
  {
   "cell_type": "code",
   "execution_count": 17,
   "metadata": {},
   "outputs": [
    {
     "data": {
      "text/html": [
       "<div>\n",
       "<style scoped>\n",
       "    .dataframe tbody tr th:only-of-type {\n",
       "        vertical-align: middle;\n",
       "    }\n",
       "\n",
       "    .dataframe tbody tr th {\n",
       "        vertical-align: top;\n",
       "    }\n",
       "\n",
       "    .dataframe thead th {\n",
       "        text-align: right;\n",
       "    }\n",
       "</style>\n",
       "<table border=\"1\" class=\"dataframe\">\n",
       "  <thead>\n",
       "    <tr style=\"text-align: right;\">\n",
       "      <th></th>\n",
       "      <th>Unique ID</th>\n",
       "      <th>Descriptor Name</th>\n",
       "      <th>Tree Number</th>\n",
       "    </tr>\n",
       "  </thead>\n",
       "  <tbody>\n",
       "    <tr>\n",
       "      <th>0</th>\n",
       "      <td>D000001</td>\n",
       "      <td>Calcimycin</td>\n",
       "      <td>D03.633.100.221.173</td>\n",
       "    </tr>\n",
       "    <tr>\n",
       "      <th>1</th>\n",
       "      <td>D000002</td>\n",
       "      <td>Temefos</td>\n",
       "      <td>D02.705.400.625.800</td>\n",
       "    </tr>\n",
       "    <tr>\n",
       "      <th>1</th>\n",
       "      <td>D000002</td>\n",
       "      <td>Temefos</td>\n",
       "      <td>D02.705.539.345.800</td>\n",
       "    </tr>\n",
       "    <tr>\n",
       "      <th>1</th>\n",
       "      <td>D000002</td>\n",
       "      <td>Temefos</td>\n",
       "      <td>D02.886.300.692.800</td>\n",
       "    </tr>\n",
       "    <tr>\n",
       "      <th>2</th>\n",
       "      <td>D000003</td>\n",
       "      <td>Abattoirs</td>\n",
       "      <td>J01.576.423.200.700.100</td>\n",
       "    </tr>\n",
       "  </tbody>\n",
       "</table>\n",
       "</div>"
      ],
      "text/plain": [
       "  Unique ID Descriptor Name              Tree Number\n",
       "0   D000001      Calcimycin      D03.633.100.221.173\n",
       "1   D000002         Temefos      D02.705.400.625.800\n",
       "1   D000002         Temefos      D02.705.539.345.800\n",
       "1   D000002         Temefos      D02.886.300.692.800\n",
       "2   D000003       Abattoirs  J01.576.423.200.700.100"
      ]
     },
     "execution_count": 17,
     "metadata": {},
     "output_type": "execute_result"
    }
   ],
   "source": [
    "data_processed.head()"
   ]
  },
  {
   "cell_type": "code",
   "execution_count": 18,
   "metadata": {},
   "outputs": [],
   "source": [
    "data_processed['Root Category'] = data_processed['Tree Number'].apply(lambda x: x[0])"
   ]
  },
  {
   "cell_type": "code",
   "execution_count": 19,
   "metadata": {},
   "outputs": [
    {
     "data": {
      "text/html": [
       "<div>\n",
       "<style scoped>\n",
       "    .dataframe tbody tr th:only-of-type {\n",
       "        vertical-align: middle;\n",
       "    }\n",
       "\n",
       "    .dataframe tbody tr th {\n",
       "        vertical-align: top;\n",
       "    }\n",
       "\n",
       "    .dataframe thead th {\n",
       "        text-align: right;\n",
       "    }\n",
       "</style>\n",
       "<table border=\"1\" class=\"dataframe\">\n",
       "  <thead>\n",
       "    <tr style=\"text-align: right;\">\n",
       "      <th></th>\n",
       "      <th>Unique ID</th>\n",
       "      <th>Descriptor Name</th>\n",
       "      <th>Tree Number</th>\n",
       "      <th>Root Category</th>\n",
       "    </tr>\n",
       "  </thead>\n",
       "  <tbody>\n",
       "    <tr>\n",
       "      <th>0</th>\n",
       "      <td>D000001</td>\n",
       "      <td>Calcimycin</td>\n",
       "      <td>D03.633.100.221.173</td>\n",
       "      <td>D</td>\n",
       "    </tr>\n",
       "    <tr>\n",
       "      <th>1</th>\n",
       "      <td>D000002</td>\n",
       "      <td>Temefos</td>\n",
       "      <td>D02.705.400.625.800</td>\n",
       "      <td>D</td>\n",
       "    </tr>\n",
       "    <tr>\n",
       "      <th>1</th>\n",
       "      <td>D000002</td>\n",
       "      <td>Temefos</td>\n",
       "      <td>D02.705.539.345.800</td>\n",
       "      <td>D</td>\n",
       "    </tr>\n",
       "    <tr>\n",
       "      <th>1</th>\n",
       "      <td>D000002</td>\n",
       "      <td>Temefos</td>\n",
       "      <td>D02.886.300.692.800</td>\n",
       "      <td>D</td>\n",
       "    </tr>\n",
       "    <tr>\n",
       "      <th>2</th>\n",
       "      <td>D000003</td>\n",
       "      <td>Abattoirs</td>\n",
       "      <td>J01.576.423.200.700.100</td>\n",
       "      <td>J</td>\n",
       "    </tr>\n",
       "  </tbody>\n",
       "</table>\n",
       "</div>"
      ],
      "text/plain": [
       "  Unique ID Descriptor Name              Tree Number Root Category\n",
       "0   D000001      Calcimycin      D03.633.100.221.173             D\n",
       "1   D000002         Temefos      D02.705.400.625.800             D\n",
       "1   D000002         Temefos      D02.705.539.345.800             D\n",
       "1   D000002         Temefos      D02.886.300.692.800             D\n",
       "2   D000003       Abattoirs  J01.576.423.200.700.100             J"
      ]
     },
     "execution_count": 19,
     "metadata": {},
     "output_type": "execute_result"
    }
   ],
   "source": [
    "data_processed.head()"
   ]
  },
  {
   "cell_type": "code",
   "execution_count": 20,
   "metadata": {},
   "outputs": [],
   "source": [
    "data_processed_final = data_processed.groupby('Descriptor Name')['Root Category'].unique().to_frame().reset_index()"
   ]
  },
  {
   "cell_type": "code",
   "execution_count": 21,
   "metadata": {},
   "outputs": [
    {
     "data": {
      "text/html": [
       "<div>\n",
       "<style scoped>\n",
       "    .dataframe tbody tr th:only-of-type {\n",
       "        vertical-align: middle;\n",
       "    }\n",
       "\n",
       "    .dataframe tbody tr th {\n",
       "        vertical-align: top;\n",
       "    }\n",
       "\n",
       "    .dataframe thead th {\n",
       "        text-align: right;\n",
       "    }\n",
       "</style>\n",
       "<table border=\"1\" class=\"dataframe\">\n",
       "  <thead>\n",
       "    <tr style=\"text-align: right;\">\n",
       "      <th></th>\n",
       "      <th>Descriptor Name</th>\n",
       "      <th>Root Category</th>\n",
       "    </tr>\n",
       "  </thead>\n",
       "  <tbody>\n",
       "    <tr>\n",
       "      <th>0</th>\n",
       "      <td>(4-(m-Chlorophenylcarbamoyloxy)-2-butynyl)trim...</td>\n",
       "      <td>[D]</td>\n",
       "    </tr>\n",
       "    <tr>\n",
       "      <th>1</th>\n",
       "      <td>1,2-Dihydroxybenzene-3,5-Disulfonic Acid Disod...</td>\n",
       "      <td>[D]</td>\n",
       "    </tr>\n",
       "    <tr>\n",
       "      <th>2</th>\n",
       "      <td>1,2-Dimethylhydrazine</td>\n",
       "      <td>[D]</td>\n",
       "    </tr>\n",
       "    <tr>\n",
       "      <th>3</th>\n",
       "      <td>1,2-Dipalmitoylphosphatidylcholine</td>\n",
       "      <td>[D]</td>\n",
       "    </tr>\n",
       "    <tr>\n",
       "      <th>4</th>\n",
       "      <td>1,4-alpha-Glucan Branching Enzyme</td>\n",
       "      <td>[D]</td>\n",
       "    </tr>\n",
       "    <tr>\n",
       "      <th>...</th>\n",
       "      <td>...</td>\n",
       "      <td>...</td>\n",
       "    </tr>\n",
       "    <tr>\n",
       "      <th>30187</th>\n",
       "      <td>von Willebrand Factor</td>\n",
       "      <td>[D]</td>\n",
       "    </tr>\n",
       "    <tr>\n",
       "      <th>30188</th>\n",
       "      <td>vpr Gene Products, Human Immunodeficiency Virus</td>\n",
       "      <td>[D]</td>\n",
       "    </tr>\n",
       "    <tr>\n",
       "      <th>30189</th>\n",
       "      <td>zeta Carotene</td>\n",
       "      <td>[D]</td>\n",
       "    </tr>\n",
       "    <tr>\n",
       "      <th>30190</th>\n",
       "      <td>zeta-Crystallins</td>\n",
       "      <td>[D]</td>\n",
       "    </tr>\n",
       "    <tr>\n",
       "      <th>30191</th>\n",
       "      <td>zeta-Globins</td>\n",
       "      <td>[D]</td>\n",
       "    </tr>\n",
       "  </tbody>\n",
       "</table>\n",
       "<p>30192 rows × 2 columns</p>\n",
       "</div>"
      ],
      "text/plain": [
       "                                         Descriptor Name Root Category\n",
       "0      (4-(m-Chlorophenylcarbamoyloxy)-2-butynyl)trim...           [D]\n",
       "1      1,2-Dihydroxybenzene-3,5-Disulfonic Acid Disod...           [D]\n",
       "2                                  1,2-Dimethylhydrazine           [D]\n",
       "3                     1,2-Dipalmitoylphosphatidylcholine           [D]\n",
       "4                      1,4-alpha-Glucan Branching Enzyme           [D]\n",
       "...                                                  ...           ...\n",
       "30187                              von Willebrand Factor           [D]\n",
       "30188    vpr Gene Products, Human Immunodeficiency Virus           [D]\n",
       "30189                                      zeta Carotene           [D]\n",
       "30190                                   zeta-Crystallins           [D]\n",
       "30191                                       zeta-Globins           [D]\n",
       "\n",
       "[30192 rows x 2 columns]"
      ]
     },
     "execution_count": 21,
     "metadata": {},
     "output_type": "execute_result"
    }
   ],
   "source": [
    "data_processed_final"
   ]
  },
  {
   "cell_type": "code",
   "execution_count": 22,
   "metadata": {},
   "outputs": [
    {
     "data": {
      "text/html": [
       "<div>\n",
       "<style scoped>\n",
       "    .dataframe tbody tr th:only-of-type {\n",
       "        vertical-align: middle;\n",
       "    }\n",
       "\n",
       "    .dataframe tbody tr th {\n",
       "        vertical-align: top;\n",
       "    }\n",
       "\n",
       "    .dataframe thead th {\n",
       "        text-align: right;\n",
       "    }\n",
       "</style>\n",
       "<table border=\"1\" class=\"dataframe\">\n",
       "  <thead>\n",
       "    <tr style=\"text-align: right;\">\n",
       "      <th></th>\n",
       "      <th>Unique ID</th>\n",
       "      <th>Descriptor Name</th>\n",
       "      <th>Tree Number</th>\n",
       "    </tr>\n",
       "  </thead>\n",
       "  <tbody>\n",
       "    <tr>\n",
       "      <th>7827</th>\n",
       "      <td>D005260</td>\n",
       "      <td>Female</td>\n",
       "      <td>NaN</td>\n",
       "    </tr>\n",
       "    <tr>\n",
       "      <th>10718</th>\n",
       "      <td>D008297</td>\n",
       "      <td>Male</td>\n",
       "      <td>NaN</td>\n",
       "    </tr>\n",
       "  </tbody>\n",
       "</table>\n",
       "</div>"
      ],
      "text/plain": [
       "      Unique ID Descriptor Name Tree Number\n",
       "7827    D005260          Female         NaN\n",
       "10718   D008297            Male         NaN"
      ]
     },
     "execution_count": 22,
     "metadata": {},
     "output_type": "execute_result"
    }
   ],
   "source": [
    "data[data['Tree Number'].isna()]"
   ]
  },
  {
   "cell_type": "code",
   "execution_count": 23,
   "metadata": {},
   "outputs": [],
   "source": [
    "data_processed_final['Descriptor Name Lower'] = data_processed_final['Descriptor Name'].apply(lambda x: x.lower())"
   ]
  },
  {
   "cell_type": "code",
   "execution_count": 26,
   "metadata": {},
   "outputs": [
    {
     "data": {
      "text/html": [
       "<div>\n",
       "<style scoped>\n",
       "    .dataframe tbody tr th:only-of-type {\n",
       "        vertical-align: middle;\n",
       "    }\n",
       "\n",
       "    .dataframe tbody tr th {\n",
       "        vertical-align: top;\n",
       "    }\n",
       "\n",
       "    .dataframe thead th {\n",
       "        text-align: right;\n",
       "    }\n",
       "</style>\n",
       "<table border=\"1\" class=\"dataframe\">\n",
       "  <thead>\n",
       "    <tr style=\"text-align: right;\">\n",
       "      <th></th>\n",
       "      <th>Descriptor Name</th>\n",
       "      <th>Root Category</th>\n",
       "      <th>Descriptor Name Lower</th>\n",
       "    </tr>\n",
       "  </thead>\n",
       "  <tbody>\n",
       "    <tr>\n",
       "      <th>0</th>\n",
       "      <td>(4-(m-Chlorophenylcarbamoyloxy)-2-butynyl)trim...</td>\n",
       "      <td>[D]</td>\n",
       "      <td>(4-(m-chlorophenylcarbamoyloxy)-2-butynyl)trim...</td>\n",
       "    </tr>\n",
       "    <tr>\n",
       "      <th>1</th>\n",
       "      <td>1,2-Dihydroxybenzene-3,5-Disulfonic Acid Disod...</td>\n",
       "      <td>[D]</td>\n",
       "      <td>1,2-dihydroxybenzene-3,5-disulfonic acid disod...</td>\n",
       "    </tr>\n",
       "    <tr>\n",
       "      <th>2</th>\n",
       "      <td>1,2-Dimethylhydrazine</td>\n",
       "      <td>[D]</td>\n",
       "      <td>1,2-dimethylhydrazine</td>\n",
       "    </tr>\n",
       "    <tr>\n",
       "      <th>3</th>\n",
       "      <td>1,2-Dipalmitoylphosphatidylcholine</td>\n",
       "      <td>[D]</td>\n",
       "      <td>1,2-dipalmitoylphosphatidylcholine</td>\n",
       "    </tr>\n",
       "    <tr>\n",
       "      <th>4</th>\n",
       "      <td>1,4-alpha-Glucan Branching Enzyme</td>\n",
       "      <td>[D]</td>\n",
       "      <td>1,4-alpha-glucan branching enzyme</td>\n",
       "    </tr>\n",
       "  </tbody>\n",
       "</table>\n",
       "</div>"
      ],
      "text/plain": [
       "                                     Descriptor Name Root Category  \\\n",
       "0  (4-(m-Chlorophenylcarbamoyloxy)-2-butynyl)trim...           [D]   \n",
       "1  1,2-Dihydroxybenzene-3,5-Disulfonic Acid Disod...           [D]   \n",
       "2                              1,2-Dimethylhydrazine           [D]   \n",
       "3                 1,2-Dipalmitoylphosphatidylcholine           [D]   \n",
       "4                  1,4-alpha-Glucan Branching Enzyme           [D]   \n",
       "\n",
       "                               Descriptor Name Lower  \n",
       "0  (4-(m-chlorophenylcarbamoyloxy)-2-butynyl)trim...  \n",
       "1  1,2-dihydroxybenzene-3,5-disulfonic acid disod...  \n",
       "2                              1,2-dimethylhydrazine  \n",
       "3                 1,2-dipalmitoylphosphatidylcholine  \n",
       "4                  1,4-alpha-glucan branching enzyme  "
      ]
     },
     "execution_count": 26,
     "metadata": {},
     "output_type": "execute_result"
    }
   ],
   "source": [
    "data_processed_final.head()"
   ]
  },
  {
   "cell_type": "code",
   "execution_count": 27,
   "metadata": {},
   "outputs": [],
   "source": [
    "data_processed_final.to_csv('descriptor_mapper.csv',index=False)"
   ]
  }
 ],
 "metadata": {
  "kernelspec": {
   "display_name": "Python 3.10.7 64-bit",
   "language": "python",
   "name": "python3"
  },
  "language_info": {
   "codemirror_mode": {
    "name": "ipython",
    "version": 3
   },
   "file_extension": ".py",
   "mimetype": "text/x-python",
   "name": "python",
   "nbconvert_exporter": "python",
   "pygments_lexer": "ipython3",
   "version": "3.10.7 (tags/v3.10.7:6cc6b13, Sep  5 2022, 14:08:36) [MSC v.1933 64 bit (AMD64)]"
  },
  "orig_nbformat": 4,
  "vscode": {
   "interpreter": {
    "hash": "9c8f51c2bcd99038a123efae1ee7756ea171a50d229ddf75d24cb86cabf1426c"
   }
  }
 },
 "nbformat": 4,
 "nbformat_minor": 2
}
