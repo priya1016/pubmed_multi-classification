{
  "cells": [
    {
      "attachments": {},
      "cell_type": "markdown",
      "metadata": {},
      "source": [
        "### This notebook walks through downloading data from huggingface."
      ]
    },
    {
      "cell_type": "code",
      "execution_count": 6,
      "metadata": {
        "colab": {
          "base_uri": "https://localhost:8080/"
        },
        "id": "NgONzlA5ZXrS",
        "outputId": "e20c7867-83e8-4cd6-90f9-c726f281a922"
      },
      "outputs": [
        {
          "name": "stdout",
          "output_type": "stream",
          "text": [
            "Archive:  rinsepubmed.zip\n",
            "  inflating: rinsepubmed/dataset_infos.json  \n",
            "  inflating: rinsepubmed/rinsepubmed.py  \n"
          ]
        }
      ],
      "source": [
        "!unzip rinsepubmed.zip"
      ]
    },
    {
      "cell_type": "code",
      "execution_count": 7,
      "metadata": {
        "id": "0gGIohwKZb-2"
      },
      "outputs": [],
      "source": [
        "!pip install datasets "
      ]
    },
    {
      "attachments": {},
      "cell_type": "markdown",
      "metadata": {},
      "source": [
        "The datasets package overloads with our pubmed script. This will allow us custom download in batches rather than pulling the full 79GB of data."
      ]
    },
    {
      "cell_type": "code",
      "execution_count": 9,
      "metadata": {
        "id": "VmR0M3KpZQyt"
      },
      "outputs": [],
      "source": [
        "from datasets import load_dataset\n",
        "dataset = load_dataset(path=\"rinsepubmed\", streaming=True)"
      ]
    },
    {
      "attachments": {},
      "cell_type": "markdown",
      "metadata": {},
      "source": [
        "Parsing the XML data"
      ]
    },
    {
      "cell_type": "code",
      "execution_count": 10,
      "metadata": {
        "id": "Zc69Ywf6ZQyx"
      },
      "outputs": [],
      "source": [
        "def data_gen():\n",
        "    for i in dataset['train']:\n",
        "        data_row = {}\n",
        "        medlinecitation = i.get('MedlineCitation')\n",
        "        if medlinecitation:\n",
        "            data_row['PMID'] = medlinecitation.get('PMID')\n",
        "            dc = medlinecitation.get('DateCompleted')\n",
        "            if dc:\n",
        "              y = dc.get('Year')\n",
        "              m = dc.get('Month')\n",
        "              d = dc.get('Day')\n",
        "              data_row['date_completed'] = f'{d}/{m}/{y}'\n",
        "            else:\n",
        "              data_row['date_completed'] = dc\n",
        "            data_row['NumberOfReferences'] = medlinecitation.get('NumberOfReferences')\n",
        "            article = medlinecitation.get('Article')\n",
        "            if article:\n",
        "                language = article.get('Language')\n",
        "                if language != 'eng':\n",
        "                    continue\n",
        "                abstract = article.get('Abstract')\n",
        "                if abstract:\n",
        "                    data_row['AbstractText'] = abstract.get('AbstractText')\n",
        "                data_row['ArticleTitle'] = article.get('ArticleTitle')\n",
        "                data_row['AuthorList'] = article.get('AuthorList')\n",
        "            mesh_heading_list = medlinecitation.get('MeshHeadingList')\n",
        "            if mesh_heading_list:\n",
        "                mesh_heading = mesh_heading_list.get('MeshHeading')\n",
        "                if mesh_heading:\n",
        "                    data_row['DescriptorName'] = mesh_heading.get('DescriptorName')\n",
        "                    data_row['QualifierName'] = mesh_heading.get('QualifierName')\n",
        "            yield data_row   \n"
      ]
    },
    {
      "attachments": {},
      "cell_type": "markdown",
      "metadata": {},
      "source": [
        "Note: For each batch of 10 files, we need to change the rinsepubmed script to extract that batch. Here as an example, we extract first batch 800-810."
      ]
    },
    {
      "cell_type": "code",
      "execution_count": 11,
      "metadata": {
        "id": "Vw8QqQwFZQyz"
      },
      "outputs": [],
      "source": [
        "# Processing first batch 800 - 810\n",
        "processed_data = []\n",
        "genogrator = data_gen()\n",
        "for i in genogrator:\n",
        "    processed_data.append(i)"
      ]
    },
    {
      "cell_type": "code",
      "execution_count": 6,
      "metadata": {
        "id": "NjdK4VUSl2My"
      },
      "outputs": [],
      "source": [
        "from collections import Counter\n",
        "s = Counter([i['PMID'] for i in processed_data])"
      ]
    },
    {
      "cell_type": "code",
      "execution_count": 12,
      "metadata": {
        "id": "RER2LiW9ZQy0"
      },
      "outputs": [],
      "source": [
        "import pandas as pd\n",
        "data = pd.DataFrame(processed_data)"
      ]
    },
    {
      "attachments": {},
      "cell_type": "markdown",
      "metadata": {},
      "source": [
        "Replace the date from 0/0/0 to 1777/01/01 so that we can convert the date to datetime."
      ]
    },
    {
      "cell_type": "code",
      "execution_count": 21,
      "metadata": {
        "id": "2ykIDKarvlwQ"
      },
      "outputs": [],
      "source": [
        "data['date_completed'] = data['date_completed'].replace('0/0/0','1777/01/01')"
      ]
    },
    {
      "cell_type": "code",
      "execution_count": 23,
      "metadata": {
        "id": "wOt1CcRKv6ui"
      },
      "outputs": [],
      "source": [
        "data['date_completed'] = pd.to_datetime(data['date_completed'])"
      ]
    },
    {
      "attachments": {},
      "cell_type": "markdown",
      "metadata": {},
      "source": [
        "Here we ensure that we have only 1 paper associated with a single PMID. "
      ]
    },
    {
      "cell_type": "code",
      "execution_count": 27,
      "metadata": {
        "id": "oMpPQOOS4VBw"
      },
      "outputs": [],
      "source": [
        "data_final = data.sort_values('date_completed',ascending=False).groupby('PMID').head(1)"
      ]
    },
    {
      "cell_type": "code",
      "execution_count": 28,
      "metadata": {
        "id": "Y7ZXwriy4Zgv"
      },
      "outputs": [],
      "source": [
        "data_final.to_csv('processed_batch_800_809.csv',index=False)"
      ]
    }
  ],
  "metadata": {
    "colab": {
      "provenance": []
    },
    "kernelspec": {
      "display_name": "Python 3.10.7 64-bit",
      "language": "python",
      "name": "python3"
    },
    "language_info": {
      "codemirror_mode": {
        "name": "ipython",
        "version": 3
      },
      "file_extension": ".py",
      "mimetype": "text/x-python",
      "name": "python",
      "nbconvert_exporter": "python",
      "pygments_lexer": "ipython3",
      "version": "3.10.7 (tags/v3.10.7:6cc6b13, Sep  5 2022, 14:08:36) [MSC v.1933 64 bit (AMD64)]"
    },
    "orig_nbformat": 4,
    "vscode": {
      "interpreter": {
        "hash": "9c8f51c2bcd99038a123efae1ee7756ea171a50d229ddf75d24cb86cabf1426c"
      }
    }
  },
  "nbformat": 4,
  "nbformat_minor": 0
}
