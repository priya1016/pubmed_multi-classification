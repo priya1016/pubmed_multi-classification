{
 "cells": [
  {
   "cell_type": "markdown",
   "id": "3f04deee-5df1-449c-9cc0-31a8a6b9a9a0",
   "metadata": {},
   "source": [
    "This notebook puts together all the code needed to add the evaluation metrics, and exports all results to a zip file."
   ]
  },
  {
   "cell_type": "markdown",
   "id": "e4e406ca-9e29-4269-85ce-9e72a68b0cd0",
   "metadata": {},
   "source": [
    "Zip all the results into a zip file."
   ]
  },
  {
   "cell_type": "code",
   "execution_count": 2,
   "id": "64fe1f89-6c41-4434-a478-4b47300fdcd9",
   "metadata": {
    "tags": []
   },
   "outputs": [
    {
     "data": {
      "text/plain": [
       "'/root/training_w2vec.zip'"
      ]
     },
     "execution_count": 2,
     "metadata": {},
     "output_type": "execute_result"
    }
   ],
   "source": [
    "import shutil\n",
    "output_filename = 'training_w2vec'\n",
    "dir_name = output_filename\n",
    "shutil.make_archive(output_filename, 'zip', dir_name)"
   ]
  },
  {
   "cell_type": "code",
   "execution_count": 3,
   "id": "4541ed00-2ff0-4e2a-9052-bd93d0cb37a5",
   "metadata": {
    "tags": []
   },
   "outputs": [],
   "source": [
    "import boto3\n",
    "\n",
    "s3 = boto3.resource('s3')\n",
    "BUCKET = \"wherewillway\"\n",
    "\n",
    "s3.Bucket(BUCKET).upload_file(f\"{output_filename}.zip\", f\"{output_filename}.zip\")"
   ]
  },
  {
   "cell_type": "code",
   "execution_count": 10,
   "id": "698deb79-dc3a-4fff-8c04-b8801aeb8778",
   "metadata": {
    "tags": []
   },
   "outputs": [],
   "source": [
    "directories = path.Path('./training_w2vec/').dirs()"
   ]
  },
  {
   "cell_type": "markdown",
   "id": "e4d863e2-182f-4e36-a1d0-2e3ace6dcf4f",
   "metadata": {},
   "source": [
    "### Assembling the predictions"
   ]
  },
  {
   "cell_type": "code",
   "execution_count": 62,
   "id": "18cf500d-ef67-467e-b763-550b763aebcc",
   "metadata": {
    "tags": []
   },
   "outputs": [],
   "source": [
    "import pandas as pd\n",
    "slices_lr = []\n",
    "slices_lgbm = []\n",
    "slices_rf = []\n",
    "slices_et = []\n",
    "for i in sorted(directories):\n",
    "    if 'ipynb_checkpoints' not in i:\n",
    "        category = i.split('/')[-1].split('_')[-1]\n",
    "        data = pd.read_csv(i / f'predictions_{category}.csv')\n",
    "        slices_lr.append(data['prediciton_label_lr'])\n",
    "        slices_lgbm.append(data['prediciton_label_lgbm'])\n",
    "        slices_rf.append(data['prediciton_label_rf'])\n",
    "        slices_et.append(data['prediciton_label_et'])"
   ]
  },
  {
   "cell_type": "code",
   "execution_count": 65,
   "id": "fa846bb6-4151-4130-9fe9-2120ceb6c073",
   "metadata": {},
   "outputs": [],
   "source": [
    "prediction_lr = pd.concat(slices_lr,axis=1).to_numpy()\n",
    "prediction_lgbm = pd.concat(slices_lgbm,axis=1).to_numpy()\n",
    "prediction_rf = pd.concat(slices_rf,axis=1).to_numpy()\n",
    "prediction_et = pd.concat(slices_et,axis=1).to_numpy()"
   ]
  },
  {
   "cell_type": "code",
   "execution_count": 71,
   "id": "1d5755d5-535b-4275-9ea1-96d7f50fcfe9",
   "metadata": {
    "tags": []
   },
   "outputs": [],
   "source": [
    "data_ = pd.read_csv(path.Path('.') / 'training_batch_800_809.csv')"
   ]
  },
  {
   "cell_type": "code",
   "execution_count": 76,
   "id": "cab2a233-f404-4a85-8289-a194a747fa50",
   "metadata": {
    "tags": []
   },
   "outputs": [],
   "source": [
    "from sklearn.model_selection import train_test_split\n",
    "train, test = train_test_split(data_, random_state=42, test_size=0.30, shuffle=True)"
   ]
  },
  {
   "cell_type": "code",
   "execution_count": 80,
   "id": "fc1c504d-8c26-4cce-a65b-7f82c7a7034a",
   "metadata": {
    "tags": []
   },
   "outputs": [],
   "source": [
    "test_truth = test.iloc[:,-15:].to_numpy()"
   ]
  },
  {
   "cell_type": "code",
   "execution_count": 82,
   "id": "8c8e4aa4-de76-4002-ad7a-a27f47f2d310",
   "metadata": {
    "tags": []
   },
   "outputs": [
    {
     "name": "stdout",
     "output_type": "stream",
     "text": [
      "Keyring is skipped due to an exception: 'keyring.backends'\n",
      "\u001b[33mWARNING: Running pip as the 'root' user can result in broken permissions and conflicting behaviour with the system package manager. It is recommended to use a virtual environment instead: https://pip.pypa.io/warnings/venv\u001b[0m\u001b[33m\n",
      "\u001b[0m"
     ]
    }
   ],
   "source": [
    "!pip install Levenshtein -q"
   ]
  },
  {
   "cell_type": "code",
   "execution_count": 85,
   "id": "50e2c059-4168-4726-b75a-3ed30bab434e",
   "metadata": {
    "tags": []
   },
   "outputs": [
    {
     "name": "stdout",
     "output_type": "stream",
     "text": [
      "Keyring is skipped due to an exception: 'keyring.backends'\n",
      "\u001b[33mWARNING: Running pip as the 'root' user can result in broken permissions and conflicting behaviour with the system package manager. It is recommended to use a virtual environment instead: https://pip.pypa.io/warnings/venv\u001b[0m\u001b[33m\n",
      "\u001b[0m"
     ]
    }
   ],
   "source": [
    "!pip install jaro-winkler -q"
   ]
  },
  {
   "cell_type": "code",
   "execution_count": 92,
   "id": "f6a55d43-03bf-4e44-8d20-081dd51ce097",
   "metadata": {
    "tags": []
   },
   "outputs": [],
   "source": [
    "from sklearn.metrics import hamming_loss, jaccard_score, classification_report, multilabel_confusion_matrix, f1_score, accuracy_score, log_loss\n",
    "from Levenshtein import distance as levenshtein_distance\n",
    "import jaro\n",
    "import numpy as np\n",
    "def eval_test_report(true_bools,pred_bools, model_name):\n",
    "    '''\n",
    "    true_label: numpy array consisting of list (length 15 = num_labels) of actual labels [1,0,1,...,0]\n",
    "    true_label: numpy array consisting of list (length 15 = num_labels) of predicted labels [1,0,1,...,0]\n",
    "    '''\n",
    "    \n",
    "    report_dict = {}\n",
    "    report_dict['jaccard'] = 100.0*jaccard_score(true_bools,pred_bools, average=\"macro\")\n",
    "    report_dict['f1_score_micro'] = 100.0*f1_score(true_bools, pred_bools,average='micro')\n",
    "    report_dict['f1_score_macro'] = 100.0*f1_score(true_bools, pred_bools,average='macro')\n",
    "    report_dict['accuracy_score'] = 100.0*accuracy_score(true_bools, pred_bools)\n",
    "    \n",
    "    # lower the better\n",
    "    report_dict['hamming_loss'] = hamming_loss(true_bools, pred_bools)\n",
    "    report_dict['log_loss'] = log_loss(true_bools,pred_bools)\n",
    "    \n",
    "    # similarity by string matching\n",
    "    pred_str = [''.join(list(map(str, (list(x))))) for x in list(pred_bools)]\n",
    "    true_str = [''.join(list(map(str, (list(x))))) for x in list(true_bools)]\n",
    "\n",
    "\n",
    "\n",
    "    sim = []\n",
    "    i = 0\n",
    "    while i < len(pred_str):\n",
    "        sim.append(jaro.jaro_winkler_metric(true_str[i],pred_str[i]))\n",
    "        i+=1\n",
    "    \n",
    "    report_dict['jaro_mean'] = 100.0*np.mean(sim)\n",
    "    \n",
    "    sim = []\n",
    "    i = 0\n",
    "    while i < len(pred_str):\n",
    "        sim.append(levenshtein_distance(true_str[i],pred_str[i]))\n",
    "        i+=1\n",
    "    \n",
    "    report_dict['lev_mean'] = np.mean(sim)\n",
    "    \n",
    "#     print(classification_report(true_bools,pred_bools,target_names=test_mesh_categories)\n",
    "    final = {model_name: report_dict}\n",
    "    \n",
    "    return pd.DataFrame(final)"
   ]
  },
  {
   "cell_type": "markdown",
   "id": "a3a3360e-285b-4e60-a8b8-e32b64fa68f0",
   "metadata": {},
   "source": [
    "### Reporting evaluation metrics for Logistic Regression"
   ]
  },
  {
   "cell_type": "code",
   "execution_count": 101,
   "id": "ae81b5a3-5b1f-4285-b1f4-5461c45afb89",
   "metadata": {
    "tags": []
   },
   "outputs": [
    {
     "data": {
      "text/html": [
       "<div>\n",
       "<style scoped>\n",
       "    .dataframe tbody tr th:only-of-type {\n",
       "        vertical-align: middle;\n",
       "    }\n",
       "\n",
       "    .dataframe tbody tr th {\n",
       "        vertical-align: top;\n",
       "    }\n",
       "\n",
       "    .dataframe thead th {\n",
       "        text-align: right;\n",
       "    }\n",
       "</style>\n",
       "<table border=\"1\" class=\"dataframe\">\n",
       "  <thead>\n",
       "    <tr style=\"text-align: right;\">\n",
       "      <th></th>\n",
       "      <th>pretrained_w2vec_Logistic_Regression</th>\n",
       "    </tr>\n",
       "  </thead>\n",
       "  <tbody>\n",
       "    <tr>\n",
       "      <th>accuracy_score</th>\n",
       "      <td>13.646394</td>\n",
       "    </tr>\n",
       "    <tr>\n",
       "      <th>f1_score_macro</th>\n",
       "      <td>68.871114</td>\n",
       "    </tr>\n",
       "    <tr>\n",
       "      <th>f1_score_micro</th>\n",
       "      <td>83.274441</td>\n",
       "    </tr>\n",
       "    <tr>\n",
       "      <th>hamming_loss</th>\n",
       "      <td>0.127239</td>\n",
       "    </tr>\n",
       "    <tr>\n",
       "      <th>jaccard</th>\n",
       "      <td>56.762089</td>\n",
       "    </tr>\n",
       "    <tr>\n",
       "      <th>jaro_mean</th>\n",
       "      <td>92.181450</td>\n",
       "    </tr>\n",
       "    <tr>\n",
       "      <th>lev_mean</th>\n",
       "      <td>1.875104</td>\n",
       "    </tr>\n",
       "    <tr>\n",
       "      <th>log_loss</th>\n",
       "      <td>48.382947</td>\n",
       "    </tr>\n",
       "  </tbody>\n",
       "</table>\n",
       "</div>"
      ],
      "text/plain": [
       "                pretrained_w2vec_Logistic_Regression\n",
       "accuracy_score                             13.646394\n",
       "f1_score_macro                             68.871114\n",
       "f1_score_micro                             83.274441\n",
       "hamming_loss                                0.127239\n",
       "jaccard                                    56.762089\n",
       "jaro_mean                                  92.181450\n",
       "lev_mean                                    1.875104\n",
       "log_loss                                   48.382947"
      ]
     },
     "execution_count": 101,
     "metadata": {},
     "output_type": "execute_result"
    }
   ],
   "source": [
    "eval_test_report(test_truth, prediction_lr, model_name='pretrained_w2vec_Logistic_Regression')"
   ]
  },
  {
   "cell_type": "markdown",
   "id": "9d9f905b-4b8e-4d64-9f34-cb5c7c1f1fb7",
   "metadata": {},
   "source": [
    "### Reporting evaluation metrics for LGBM"
   ]
  },
  {
   "cell_type": "code",
   "execution_count": 102,
   "id": "091fde2f-2026-4987-9876-a7f2e085817e",
   "metadata": {
    "tags": []
   },
   "outputs": [
    {
     "data": {
      "text/html": [
       "<div>\n",
       "<style scoped>\n",
       "    .dataframe tbody tr th:only-of-type {\n",
       "        vertical-align: middle;\n",
       "    }\n",
       "\n",
       "    .dataframe tbody tr th {\n",
       "        vertical-align: top;\n",
       "    }\n",
       "\n",
       "    .dataframe thead th {\n",
       "        text-align: right;\n",
       "    }\n",
       "</style>\n",
       "<table border=\"1\" class=\"dataframe\">\n",
       "  <thead>\n",
       "    <tr style=\"text-align: right;\">\n",
       "      <th></th>\n",
       "      <th>pretrained_w2vec_LGBM</th>\n",
       "    </tr>\n",
       "  </thead>\n",
       "  <tbody>\n",
       "    <tr>\n",
       "      <th>accuracy_score</th>\n",
       "      <td>13.987429</td>\n",
       "    </tr>\n",
       "    <tr>\n",
       "      <th>f1_score_macro</th>\n",
       "      <td>69.952615</td>\n",
       "    </tr>\n",
       "    <tr>\n",
       "      <th>f1_score_micro</th>\n",
       "      <td>83.417688</td>\n",
       "    </tr>\n",
       "    <tr>\n",
       "      <th>hamming_loss</th>\n",
       "      <td>0.126704</td>\n",
       "    </tr>\n",
       "    <tr>\n",
       "      <th>jaccard</th>\n",
       "      <td>57.587022</td>\n",
       "    </tr>\n",
       "    <tr>\n",
       "      <th>jaro_mean</th>\n",
       "      <td>92.248911</td>\n",
       "    </tr>\n",
       "    <tr>\n",
       "      <th>lev_mean</th>\n",
       "      <td>1.865542</td>\n",
       "    </tr>\n",
       "    <tr>\n",
       "      <th>log_loss</th>\n",
       "      <td>47.437073</td>\n",
       "    </tr>\n",
       "  </tbody>\n",
       "</table>\n",
       "</div>"
      ],
      "text/plain": [
       "                pretrained_w2vec_LGBM\n",
       "accuracy_score              13.987429\n",
       "f1_score_macro              69.952615\n",
       "f1_score_micro              83.417688\n",
       "hamming_loss                 0.126704\n",
       "jaccard                     57.587022\n",
       "jaro_mean                   92.248911\n",
       "lev_mean                     1.865542\n",
       "log_loss                    47.437073"
      ]
     },
     "execution_count": 102,
     "metadata": {},
     "output_type": "execute_result"
    }
   ],
   "source": [
    "eval_test_report(test_truth, prediction_lgbm, model_name='pretrained_w2vec_LGBM')"
   ]
  },
  {
   "cell_type": "markdown",
   "id": "90e33295-897d-4be6-a950-9bd3f2d60894",
   "metadata": {},
   "source": [
    "### Reporting evaluation metrics for Random Forest"
   ]
  },
  {
   "cell_type": "code",
   "execution_count": 103,
   "id": "84f16aed-5c5a-4aef-9478-a806982f39a8",
   "metadata": {
    "tags": []
   },
   "outputs": [
    {
     "data": {
      "text/html": [
       "<div>\n",
       "<style scoped>\n",
       "    .dataframe tbody tr th:only-of-type {\n",
       "        vertical-align: middle;\n",
       "    }\n",
       "\n",
       "    .dataframe tbody tr th {\n",
       "        vertical-align: top;\n",
       "    }\n",
       "\n",
       "    .dataframe thead th {\n",
       "        text-align: right;\n",
       "    }\n",
       "</style>\n",
       "<table border=\"1\" class=\"dataframe\">\n",
       "  <thead>\n",
       "    <tr style=\"text-align: right;\">\n",
       "      <th></th>\n",
       "      <th>pretrained_w2vec_Random_Forest</th>\n",
       "    </tr>\n",
       "  </thead>\n",
       "  <tbody>\n",
       "    <tr>\n",
       "      <th>accuracy_score</th>\n",
       "      <td>12.788793</td>\n",
       "    </tr>\n",
       "    <tr>\n",
       "      <th>f1_score_macro</th>\n",
       "      <td>65.146695</td>\n",
       "    </tr>\n",
       "    <tr>\n",
       "      <th>f1_score_micro</th>\n",
       "      <td>82.659774</td>\n",
       "    </tr>\n",
       "    <tr>\n",
       "      <th>hamming_loss</th>\n",
       "      <td>0.131733</td>\n",
       "    </tr>\n",
       "    <tr>\n",
       "      <th>jaccard</th>\n",
       "      <td>53.645234</td>\n",
       "    </tr>\n",
       "    <tr>\n",
       "      <th>jaro_mean</th>\n",
       "      <td>92.010469</td>\n",
       "    </tr>\n",
       "    <tr>\n",
       "      <th>lev_mean</th>\n",
       "      <td>1.937243</td>\n",
       "    </tr>\n",
       "    <tr>\n",
       "      <th>log_loss</th>\n",
       "      <td>49.801272</td>\n",
       "    </tr>\n",
       "  </tbody>\n",
       "</table>\n",
       "</div>"
      ],
      "text/plain": [
       "                pretrained_w2vec_Random_Forest\n",
       "accuracy_score                       12.788793\n",
       "f1_score_macro                       65.146695\n",
       "f1_score_micro                       82.659774\n",
       "hamming_loss                          0.131733\n",
       "jaccard                              53.645234\n",
       "jaro_mean                            92.010469\n",
       "lev_mean                              1.937243\n",
       "log_loss                             49.801272"
      ]
     },
     "execution_count": 103,
     "metadata": {},
     "output_type": "execute_result"
    }
   ],
   "source": [
    "eval_test_report(test_truth, prediction_rf, model_name='pretrained_w2vec_Random_Forest')"
   ]
  },
  {
   "cell_type": "markdown",
   "id": "738e1f40-8f20-48a0-b370-780ad235b46f",
   "metadata": {},
   "source": [
    "### Reporting evaluation metrics for Extra Tree Classifier"
   ]
  },
  {
   "cell_type": "code",
   "execution_count": 104,
   "id": "1f6a0dc6-7a32-49d4-a7b2-2e0e586b5335",
   "metadata": {
    "tags": []
   },
   "outputs": [
    {
     "data": {
      "text/html": [
       "<div>\n",
       "<style scoped>\n",
       "    .dataframe tbody tr th:only-of-type {\n",
       "        vertical-align: middle;\n",
       "    }\n",
       "\n",
       "    .dataframe tbody tr th {\n",
       "        vertical-align: top;\n",
       "    }\n",
       "\n",
       "    .dataframe thead th {\n",
       "        text-align: right;\n",
       "    }\n",
       "</style>\n",
       "<table border=\"1\" class=\"dataframe\">\n",
       "  <thead>\n",
       "    <tr style=\"text-align: right;\">\n",
       "      <th></th>\n",
       "      <th>pretrained_w2vec_Extra_Tree</th>\n",
       "    </tr>\n",
       "  </thead>\n",
       "  <tbody>\n",
       "    <tr>\n",
       "      <th>accuracy_score</th>\n",
       "      <td>12.653382</td>\n",
       "    </tr>\n",
       "    <tr>\n",
       "      <th>f1_score_macro</th>\n",
       "      <td>64.084770</td>\n",
       "    </tr>\n",
       "    <tr>\n",
       "      <th>f1_score_micro</th>\n",
       "      <td>82.482826</td>\n",
       "    </tr>\n",
       "    <tr>\n",
       "      <th>hamming_loss</th>\n",
       "      <td>0.132943</td>\n",
       "    </tr>\n",
       "    <tr>\n",
       "      <th>jaccard</th>\n",
       "      <td>52.813942</td>\n",
       "    </tr>\n",
       "    <tr>\n",
       "      <th>jaro_mean</th>\n",
       "      <td>91.994049</td>\n",
       "    </tr>\n",
       "    <tr>\n",
       "      <th>lev_mean</th>\n",
       "      <td>1.953308</td>\n",
       "    </tr>\n",
       "    <tr>\n",
       "      <th>log_loss</th>\n",
       "      <td>50.301319</td>\n",
       "    </tr>\n",
       "  </tbody>\n",
       "</table>\n",
       "</div>"
      ],
      "text/plain": [
       "                pretrained_w2vec_Extra_Tree\n",
       "accuracy_score                    12.653382\n",
       "f1_score_macro                    64.084770\n",
       "f1_score_micro                    82.482826\n",
       "hamming_loss                       0.132943\n",
       "jaccard                           52.813942\n",
       "jaro_mean                         91.994049\n",
       "lev_mean                           1.953308\n",
       "log_loss                          50.301319"
      ]
     },
     "execution_count": 104,
     "metadata": {},
     "output_type": "execute_result"
    }
   ],
   "source": [
    "eval_test_report(test_truth, prediction_et, model_name='pretrained_w2vec_Extra_Tree')"
   ]
  },
  {
   "cell_type": "markdown",
   "id": "da4bdf03-4987-4264-a0a3-662e5569f0f7",
   "metadata": {},
   "source": [
    "### Classification Report for Logistic Regression"
   ]
  },
  {
   "cell_type": "code",
   "execution_count": 111,
   "id": "7ec2828d-6d2a-49f5-a9bf-5afe7ef6475b",
   "metadata": {
    "tags": []
   },
   "outputs": [
    {
     "name": "stdout",
     "output_type": "stream",
     "text": [
      "              precision    recall  f1-score   support\n",
      "\n",
      "           A       0.79      0.72      0.75     24695\n",
      "           B       0.97      0.98      0.98     55032\n",
      "           C       0.88      0.86      0.87     32271\n",
      "           D       0.91      0.88      0.90     35756\n",
      "           E       0.83      0.94      0.88     46510\n",
      "           F       0.83      0.68      0.75     12483\n",
      "           G       0.83      0.88      0.85     40604\n",
      "           H       0.60      0.10      0.18      7755\n",
      "           I       0.71      0.50      0.58      7977\n",
      "           J       0.74      0.42      0.54      8465\n",
      "           K       0.73      0.18      0.28      1756\n",
      "           L       0.71      0.34      0.46      9856\n",
      "           M       0.85      0.85      0.85     24418\n",
      "           N       0.81      0.82      0.81     31817\n",
      "           Z       0.76      0.56      0.64     11152\n",
      "\n",
      "   micro avg       0.86      0.81      0.83    350547\n",
      "   macro avg       0.80      0.65      0.69    350547\n",
      "weighted avg       0.85      0.81      0.82    350547\n",
      " samples avg       0.86      0.83      0.83    350547\n",
      "\n"
     ]
    }
   ],
   "source": [
    "from sklearn.metrics import classification_report\n",
    "print(classification_report(test_truth, prediction_lr, target_names=list(data_.columns[-15:])))"
   ]
  },
  {
   "cell_type": "markdown",
   "id": "cadf3b3d-a3d2-4823-9e82-a6553f9476b6",
   "metadata": {},
   "source": [
    "### Classification Report for LGBM"
   ]
  },
  {
   "cell_type": "code",
   "execution_count": 113,
   "id": "6ffe153a-ede2-420f-89af-04ed9cd45b8a",
   "metadata": {
    "tags": []
   },
   "outputs": [
    {
     "name": "stdout",
     "output_type": "stream",
     "text": [
      "              precision    recall  f1-score   support\n",
      "\n",
      "           A       0.79      0.73      0.76     24695\n",
      "           B       0.97      0.98      0.98     55032\n",
      "           C       0.87      0.87      0.87     32271\n",
      "           D       0.91      0.88      0.89     35756\n",
      "           E       0.83      0.94      0.88     46510\n",
      "           F       0.83      0.67      0.74     12483\n",
      "           G       0.83      0.88      0.86     40604\n",
      "           H       0.60      0.14      0.23      7755\n",
      "           I       0.70      0.52      0.60      7977\n",
      "           J       0.76      0.44      0.55      8465\n",
      "           K       0.70      0.22      0.33      1756\n",
      "           L       0.73      0.36      0.48      9856\n",
      "           M       0.84      0.87      0.85     24418\n",
      "           N       0.81      0.82      0.82     31817\n",
      "           Z       0.75      0.57      0.65     11152\n",
      "\n",
      "   micro avg       0.85      0.82      0.83    350547\n",
      "   macro avg       0.79      0.66      0.70    350547\n",
      "weighted avg       0.84      0.82      0.82    350547\n",
      " samples avg       0.86      0.83      0.83    350547\n",
      "\n"
     ]
    }
   ],
   "source": [
    "from sklearn.metrics import classification_report\n",
    "print(classification_report(test_truth, prediction_lgbm, target_names=list(data_.columns[-15:])))"
   ]
  },
  {
   "cell_type": "markdown",
   "id": "67df2576-559f-4b9e-b05b-72e691f84be3",
   "metadata": {},
   "source": [
    "### Classification Report for Random Forst"
   ]
  },
  {
   "cell_type": "code",
   "execution_count": 117,
   "id": "070a5b26-c8ec-4ea4-8cbf-fc652f2a8bcb",
   "metadata": {
    "tags": []
   },
   "outputs": [
    {
     "name": "stdout",
     "output_type": "stream",
     "text": [
      "              precision    recall  f1-score   support\n",
      "\n",
      "           A       0.80      0.70      0.75     24695\n",
      "           B       0.96      0.99      0.98     55032\n",
      "           C       0.86      0.87      0.87     32271\n",
      "           D       0.90      0.88      0.89     35756\n",
      "           E       0.82      0.96      0.88     46510\n",
      "           F       0.85      0.59      0.70     12483\n",
      "           G       0.82      0.89      0.85     40604\n",
      "           H       0.66      0.07      0.13      7755\n",
      "           I       0.73      0.42      0.53      7977\n",
      "           J       0.81      0.32      0.46      8465\n",
      "           K       0.87      0.05      0.09      1756\n",
      "           L       0.80      0.25      0.38      9856\n",
      "           M       0.82      0.87      0.84     24418\n",
      "           N       0.80      0.83      0.81     31817\n",
      "           Z       0.79      0.49      0.60     11152\n",
      "\n",
      "   micro avg       0.85      0.80      0.83    350547\n",
      "   macro avg       0.82      0.61      0.65    350547\n",
      "weighted avg       0.84      0.80      0.81    350547\n",
      " samples avg       0.85      0.82      0.82    350547\n",
      "\n"
     ]
    }
   ],
   "source": [
    "from sklearn.metrics import classification_report\n",
    "print(classification_report(test_truth, prediction_rf, target_names=list(data_.columns[-15:])))"
   ]
  },
  {
   "cell_type": "markdown",
   "id": "2ad9bf93-853c-4d67-8214-df32a74a4c94",
   "metadata": {},
   "source": [
    "### Classification Report for Extra Tree Classifier"
   ]
  },
  {
   "cell_type": "code",
   "execution_count": 118,
   "id": "18183d62-8192-4d13-90a0-3aa3a55f2de4",
   "metadata": {
    "tags": []
   },
   "outputs": [
    {
     "name": "stdout",
     "output_type": "stream",
     "text": [
      "              precision    recall  f1-score   support\n",
      "\n",
      "           A       0.80      0.69      0.74     24695\n",
      "           B       0.96      0.99      0.98     55032\n",
      "           C       0.85      0.88      0.87     32271\n",
      "           D       0.90      0.88      0.89     35756\n",
      "           E       0.81      0.97      0.88     46510\n",
      "           F       0.85      0.58      0.69     12483\n",
      "           G       0.82      0.89      0.85     40604\n",
      "           H       0.65      0.05      0.10      7755\n",
      "           I       0.73      0.40      0.52      7977\n",
      "           J       0.82      0.29      0.43      8465\n",
      "           K       0.94      0.03      0.07      1756\n",
      "           L       0.83      0.23      0.36      9856\n",
      "           M       0.82      0.86      0.84     24418\n",
      "           N       0.80      0.83      0.81     31817\n",
      "           Z       0.79      0.46      0.59     11152\n",
      "\n",
      "   micro avg       0.85      0.80      0.82    350547\n",
      "   macro avg       0.83      0.60      0.64    350547\n",
      "weighted avg       0.84      0.80      0.80    350547\n",
      " samples avg       0.85      0.82      0.82    350547\n",
      "\n"
     ]
    }
   ],
   "source": [
    "from sklearn.metrics import classification_report\n",
    "print(classification_report(test_truth, prediction_et, target_names=list(data_.columns[-15:])))"
   ]
  },
  {
   "cell_type": "markdown",
   "id": "159bf80b-1ee7-47bc-9597-c6719c2859b1",
   "metadata": {},
   "source": [
    "### Blend Model Result\n",
    "Blend model is a voting classifier that is trained with the above 4 classifiers."
   ]
  },
  {
   "attachments": {
    "e3b233dc-5d51-40d2-b97e-44878e5c7264.png": {
     "image/png": "[encoded data removed]"
    }
   },
   "cell_type": "markdown",
   "id": "2760531e-73b2-41dc-9b96-8456614bb6f8",
   "metadata": {},
   "source": [
    "![image.png](attachment:e3b233dc-5d51-40d2-b97e-44878e5c7264.png)"
   ]
  },
  {
   "cell_type": "markdown",
   "id": "b95dc883-b265-4f26-a968-0bd7823d5428",
   "metadata": {},
   "source": [
    "### Evaluating the results"
   ]
  },
  {
   "cell_type": "code",
   "execution_count": 121,
   "id": "91f9abae-dbfd-4c8e-8da8-3e978621efc0",
   "metadata": {
    "tags": []
   },
   "outputs": [],
   "source": [
    "import pandas as pd\n",
    "slices_blend = []\n",
    "for i in sorted(directories):\n",
    "    if 'ipynb_checkpoints' not in i:\n",
    "        category = i.split('/')[-1].split('_')[-1]\n",
    "        data = pd.read_csv(i / f'blend_predicitons_{category}.csv')\n",
    "        slices_blend.append(data['prediction_label'])"
   ]
  },
  {
   "cell_type": "code",
   "execution_count": 124,
   "id": "db797eeb-d6a4-43a6-9174-4524e63f6a72",
   "metadata": {
    "tags": []
   },
   "outputs": [],
   "source": [
    "blend_preds = pd.concat(slices_blend,axis=1).to_numpy()"
   ]
  },
  {
   "cell_type": "code",
   "execution_count": 125,
   "id": "89006be3-a0de-40d7-a4f3-f7164e8f6ffb",
   "metadata": {
    "tags": []
   },
   "outputs": [
    {
     "data": {
      "text/html": [
       "<div>\n",
       "<style scoped>\n",
       "    .dataframe tbody tr th:only-of-type {\n",
       "        vertical-align: middle;\n",
       "    }\n",
       "\n",
       "    .dataframe tbody tr th {\n",
       "        vertical-align: top;\n",
       "    }\n",
       "\n",
       "    .dataframe thead th {\n",
       "        text-align: right;\n",
       "    }\n",
       "</style>\n",
       "<table border=\"1\" class=\"dataframe\">\n",
       "  <thead>\n",
       "    <tr style=\"text-align: right;\">\n",
       "      <th></th>\n",
       "      <th>pretrained_w2vec_Ensembled</th>\n",
       "    </tr>\n",
       "  </thead>\n",
       "  <tbody>\n",
       "    <tr>\n",
       "      <th>accuracy_score</th>\n",
       "      <td>14.084389</td>\n",
       "    </tr>\n",
       "    <tr>\n",
       "      <th>f1_score_macro</th>\n",
       "      <td>68.015017</td>\n",
       "    </tr>\n",
       "    <tr>\n",
       "      <th>f1_score_micro</th>\n",
       "      <td>83.494106</td>\n",
       "    </tr>\n",
       "    <tr>\n",
       "      <th>hamming_loss</th>\n",
       "      <td>0.125729</td>\n",
       "    </tr>\n",
       "    <tr>\n",
       "      <th>jaccard</th>\n",
       "      <td>56.194564</td>\n",
       "    </tr>\n",
       "    <tr>\n",
       "      <th>jaro_mean</th>\n",
       "      <td>92.271024</td>\n",
       "    </tr>\n",
       "    <tr>\n",
       "      <th>lev_mean</th>\n",
       "      <td>1.852770</td>\n",
       "    </tr>\n",
       "    <tr>\n",
       "      <th>log_loss</th>\n",
       "      <td>47.762273</td>\n",
       "    </tr>\n",
       "  </tbody>\n",
       "</table>\n",
       "</div>"
      ],
      "text/plain": [
       "                pretrained_w2vec_Ensembled\n",
       "accuracy_score                   14.084389\n",
       "f1_score_macro                   68.015017\n",
       "f1_score_micro                   83.494106\n",
       "hamming_loss                      0.125729\n",
       "jaccard                          56.194564\n",
       "jaro_mean                        92.271024\n",
       "lev_mean                          1.852770\n",
       "log_loss                         47.762273"
      ]
     },
     "execution_count": 125,
     "metadata": {},
     "output_type": "execute_result"
    }
   ],
   "source": [
    "eval_test_report(test_truth, blend_preds, model_name='pretrained_w2vec_Ensembled')"
   ]
  },
  {
   "cell_type": "code",
   "execution_count": 126,
   "id": "ddae36b0-5d4e-4ee8-9d67-a6763ba068d2",
   "metadata": {
    "tags": []
   },
   "outputs": [
    {
     "name": "stdout",
     "output_type": "stream",
     "text": [
      "              precision    recall  f1-score   support\n",
      "\n",
      "           A       0.80      0.72      0.76     24695\n",
      "           B       0.97      0.99      0.98     55032\n",
      "           C       0.87      0.87      0.87     32271\n",
      "           D       0.91      0.88      0.90     35756\n",
      "           E       0.82      0.96      0.89     46510\n",
      "           F       0.85      0.65      0.74     12483\n",
      "           G       0.83      0.89      0.86     40604\n",
      "           H       0.66      0.09      0.16      7755\n",
      "           I       0.72      0.48      0.58      7977\n",
      "           J       0.79      0.38      0.51      8465\n",
      "           K       0.88      0.13      0.22      1756\n",
      "           L       0.78      0.30      0.44      9856\n",
      "           M       0.84      0.87      0.85     24418\n",
      "           N       0.81      0.83      0.82     31817\n",
      "           Z       0.78      0.54      0.64     11152\n",
      "\n",
      "   micro avg       0.86      0.81      0.83    350547\n",
      "   macro avg       0.82      0.64      0.68    350547\n",
      "weighted avg       0.85      0.81      0.82    350547\n",
      " samples avg       0.86      0.83      0.83    350547\n",
      "\n"
     ]
    }
   ],
   "source": [
    "from sklearn.metrics import classification_report\n",
    "print(classification_report(test_truth, blend_preds, target_names=list(data_.columns[-15:])))"
   ]
  },
  {
   "cell_type": "markdown",
   "id": "357cdcaa-36c9-4b39-a4a6-317c2eeecd23",
   "metadata": {},
   "source": [
    "### Conclusion \n",
    "\n",
    "From the above results we can see that the `accuracy` and `jaccard score` is pretty low, but forms the baseline of our classification task.  "
   ]
  }
 ],
 "metadata": {
  "instance_type": "ml.t3.medium",
  "kernelspec": {
   "display_name": "Python 3 (Data Science)",
   "language": "python",
   "name": "python3__SAGEMAKER_INTERNAL__arn:aws:sagemaker:us-east-1:081325390199:image/datascience-1.0"
  },
  "language_info": {
   "codemirror_mode": {
    "name": "ipython",
    "version": 3
   },
   "file_extension": ".py",
   "mimetype": "text/x-python",
   "name": "python",
   "nbconvert_exporter": "python",
   "pygments_lexer": "ipython3",
   "version": "3.7.10"
  }
 },
 "nbformat": 4,
 "nbformat_minor": 5
}
