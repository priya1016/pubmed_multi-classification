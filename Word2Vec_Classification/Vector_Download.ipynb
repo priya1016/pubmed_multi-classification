{
 "cells": [
  {
   "cell_type": "markdown",
   "id": "3c589998",
   "metadata": {},
   "source": [
    "This notebook walks through loading a pretrained word2vec model.     \n",
    "The experiment was done on a large instance, since the model takes up about ~27GB in memory.     \n",
    "We will extract the embedding mappings for words that occur in our training set, making it easier for the embeddings to fit in our limited colab instance."
   ]
  },
  {
   "cell_type": "markdown",
   "id": "ece35fbe-e265-410d-bc20-af48605bbbaf",
   "metadata": {},
   "source": [
    "### Downloading the pretrained word2vec model"
   ]
  },
  {
   "cell_type": "code",
   "execution_count": 2,
   "id": "9a61d21c-d054-48c1-9ba6-344b884abe45",
   "metadata": {
    "tags": []
   },
   "outputs": [
    {
     "name": "stdout",
     "output_type": "stream",
     "text": [
      "--2022-11-29 14:47:49--  https://doc-0s-6o-docs.googleusercontent.com/docs/securesc/6fglfng6gsfg8svq9gbkvr4bflmoufjj/d22kn4f60d9r7jl8e7i6caasqq2i1g9h/1669733175000/17060459648485421300/17060459648485421300/1-3yuMwCo0HKDNqZOq2xcBmY-H-4cyele?e=download&ax=AEKYgyTCKLrdLYpYaj6XjfPygem-XBxSyU2Xz8pYuta6km3Xsu2mlye7KwwiYT-NQ-0EVQZnqHAkbsn3aBj4_jRGCANxY37M0ofKw6A52qXlff4-pa25NTUFQvsIRsbAMYalGZT5iC5STgtCgfRU0BBQqnuZL5AjDYWv7gpMonaiqcTXWSUCQ3BZ5-nt5H8iE_kjmBodOWaCgDNksrf4b7ZAN5ln0MKI5NtEe7oILibiV2A3YR8pi6ENV_ignsiQfV7He2AvUtw2BknKr1Y1Dgw98BY8o7SpOT1Tnzb4ikFkKAtXynjMonyPRc76i35W3Emka1eq1BWcaOe2QpglBm3hov5ESQrGobBItmXVzLmRNt_Ix_w37MzNIZeLlazF20oLMGuawJsi8apIw_h33e5VT4eKgNqE8_fg2d9IywCfKCHsvUzL9XLLNxWjHeRNhWDK8v-q8Rl_2iGCxlf0Dy5dWuH1_u66QIfPrl-I3xuBRVSrtp60XQMWd4Jj8baL_jfW-fjmKGmII_-SHD8IfjPlJEOdvfmJ0hHDPcTDxnG02OhpIpR_vn30sqfy29xtVehTOgnUQy_iWOKJI9h9-AXAJ77ealUv3E0rphpawtgcjMr_krG-7Wx1OD_mRZSW7O8nragMHLzSQjkhXaYvCsFq0Px-zL2f8c7R8wQzR-yN_slt9QjMrHx87Jf7UuU3Z3BPsBYc8dUy-kprlMux950fGLJ5cTz45g2GKncNEnoHAKsjuEeHa0LMOXnkju15QhS_RdN8uuZPDZ2NMLq6QlhfX1yH_SCctQhh42D8sM1yGH03RgeJT6ARrX37nn4kO87Gwis-__IIGdXuBvxqwZf1NR4_HO31PHqETqRVBHnyNQx-rUDj2RG-VJ-eXPBZdW_FABzLs6Fs-bxZ7IKQGbI7BoDYeC7tMT6jQ_F3q0dUFV-h9RsDApYI6FVBTzZIqJfIVz9ZVtPxNOqbtieNuU8407ejPqbOynUhBLuZmGo370nOq47ngxDY0U1FH6PI5UwNlZ74Rjc81ms9vzgoly3e-f_vRWz_EIbOzfvPEkKZ0UelvaAgaoY&uuid=4c293bfa-b1a8-4e33-a745-633fce558e5a&authuser=2&nonce=fp1i2rr60reqg&user=17060459648485421300&hash=vjprlkt80bnt8igemi6smtsvjmk6e37l\n",
      "Resolving doc-0s-6o-docs.googleusercontent.com (doc-0s-6o-docs.googleusercontent.com)... 172.253.122.132, 2607:f8b0:4004:c09::84\n",
      "Connecting to doc-0s-6o-docs.googleusercontent.com (doc-0s-6o-docs.googleusercontent.com)|172.253.122.132|:443... connected.\n",
      "HTTP request sent, awaiting response... 200 OK\n",
      "Length: 13451441787 (13G) [application/octet-stream]\n",
      "Saving to: ‘BioWordVec_PubMed_MIMICIII_d200.vec.bin’\n",
      "\n",
      "BioWordVec_PubMed_M 100%[===================>]  12.53G  76.6MB/s    in 3m 13s  \n",
      "\n",
      "2022-11-29 14:51:03 (66.5 MB/s) - ‘BioWordVec_PubMed_MIMICIII_d200.vec.bin’ saved [13451441787/13451441787]\n",
      "\n"
     ]
    }
   ],
   "source": [
    "!wget --header=\"Host: doc-0s-6o-docs.googleusercontent.com\" --header=\"User-Agent: Mozilla/5.0 (Windows NT 10.0; Win64; x64) AppleWebKit/537.36 (KHTML, like Gecko) Chrome/107.0.0.0 Safari/537.36 Edg/107.0.1418.56\" --header=\"Accept: text/html,application/xhtml+xml,application/xml;q=0.9,image/webp,image/apng,*/*;q=0.8,application/signed-exchange;v=b3;q=0.9\" --header=\"Accept-Language: en-US,en;q=0.9\" --header=\"Cookie: AUTH_q396glqdcuo3cgp14o8502qdk4gju650_nonce=fp1i2rr60reqg\" --header=\"Connection: keep-alive\" \"https://doc-0s-6o-docs.googleusercontent.com/docs/securesc/6fglfng6gsfg8svq9gbkvr4bflmoufjj/d22kn4f60d9r7jl8e7i6caasqq2i1g9h/1669733175000/17060459648485421300/17060459648485421300/1-3yuMwCo0HKDNqZOq2xcBmY-H-4cyele?e=download&ax=AEKYgyTCKLrdLYpYaj6XjfPygem-XBxSyU2Xz8pYuta6km3Xsu2mlye7KwwiYT-NQ-0EVQZnqHAkbsn3aBj4_jRGCANxY37M0ofKw6A52qXlff4-pa25NTUFQvsIRsbAMYalGZT5iC5STgtCgfRU0BBQqnuZL5AjDYWv7gpMonaiqcTXWSUCQ3BZ5-nt5H8iE_kjmBodOWaCgDNksrf4b7ZAN5ln0MKI5NtEe7oILibiV2A3YR8pi6ENV_ignsiQfV7He2AvUtw2BknKr1Y1Dgw98BY8o7SpOT1Tnzb4ikFkKAtXynjMonyPRc76i35W3Emka1eq1BWcaOe2QpglBm3hov5ESQrGobBItmXVzLmRNt_Ix_w37MzNIZeLlazF20oLMGuawJsi8apIw_h33e5VT4eKgNqE8_fg2d9IywCfKCHsvUzL9XLLNxWjHeRNhWDK8v-q8Rl_2iGCxlf0Dy5dWuH1_u66QIfPrl-I3xuBRVSrtp60XQMWd4Jj8baL_jfW-fjmKGmII_-SHD8IfjPlJEOdvfmJ0hHDPcTDxnG02OhpIpR_vn30sqfy29xtVehTOgnUQy_iWOKJI9h9-AXAJ77ealUv3E0rphpawtgcjMr_krG-7Wx1OD_mRZSW7O8nragMHLzSQjkhXaYvCsFq0Px-zL2f8c7R8wQzR-yN_slt9QjMrHx87Jf7UuU3Z3BPsBYc8dUy-kprlMux950fGLJ5cTz45g2GKncNEnoHAKsjuEeHa0LMOXnkju15QhS_RdN8uuZPDZ2NMLq6QlhfX1yH_SCctQhh42D8sM1yGH03RgeJT6ARrX37nn4kO87Gwis-__IIGdXuBvxqwZf1NR4_HO31PHqETqRVBHnyNQx-rUDj2RG-VJ-eXPBZdW_FABzLs6Fs-bxZ7IKQGbI7BoDYeC7tMT6jQ_F3q0dUFV-h9RsDApYI6FVBTzZIqJfIVz9ZVtPxNOqbtieNuU8407ejPqbOynUhBLuZmGo370nOq47ngxDY0U1FH6PI5UwNlZ74Rjc81ms9vzgoly3e-f_vRWz_EIbOzfvPEkKZ0UelvaAgaoY&uuid=4c293bfa-b1a8-4e33-a745-633fce558e5a&authuser=2&nonce=fp1i2rr60reqg&user=17060459648485421300&hash=vjprlkt80bnt8igemi6smtsvjmk6e37l\" -c -O 'BioWordVec_PubMed_MIMICIII_d200.vec.bin'"
   ]
  },
  {
   "cell_type": "markdown",
   "id": "7207ebb4-1a18-459b-a22d-0795700150e3",
   "metadata": {},
   "source": [
    "### Download the batch data"
   ]
  },
  {
   "cell_type": "code",
   "execution_count": 3,
   "id": "4b94e39e-ec0c-46a3-b6a2-0c5b2414c1e4",
   "metadata": {
    "tags": []
   },
   "outputs": [
    {
     "name": "stdout",
     "output_type": "stream",
     "text": [
      "--2022-11-29 14:51:33--  https://northeastern-my.sharepoint.com/personal/choudhari_p_northeastern_edu/_layouts/15/download.aspx?UniqueId=e12465f9%2De777%2D449b%2D872d%2De2305eaed74f\n",
      "Resolving northeastern-my.sharepoint.com (northeastern-my.sharepoint.com)... 52.107.251.59, 52.107.251.6, 52.107.251.2, ...\n",
      "Connecting to northeastern-my.sharepoint.com (northeastern-my.sharepoint.com)|52.107.251.59|:443... connected.\n",
      "HTTP request sent, awaiting response... 200 OK\n",
      "Length: 273646766 (261M) [application/octet-stream]\n",
      "Saving to: ‘training_batch_800_809.csv’\n",
      "\n",
      "training_batch_800_ 100%[===================>] 260.97M  4.03MB/s    in 44s     \n",
      "\n",
      "2022-11-29 14:52:18 (5.95 MB/s) - ‘training_batch_800_809.csv’ saved [273646766/273646766]\n",
      "\n"
     ]
    }
   ],
   "source": [
    "!wget --header=\"Host: northeastern-my.sharepoint.com\" --header=\"User-Agent: Mozilla/5.0 (Windows NT 10.0; Win64; x64) AppleWebKit/537.36 (KHTML, like Gecko) Chrome/107.0.0.0 Safari/537.36 Edg/107.0.1418.56\" --header=\"Accept: text/html,application/xhtml+xml,application/xml;q=0.9,image/webp,image/apng,*/*;q=0.8,application/signed-exchange;v=b3;q=0.9\" --header=\"Accept-Language: en-US,en;q=0.9\" --header=\"Referer: https://northeastern-my.sharepoint.com/personal/choudhari_p_northeastern_edu/_layouts/15/onedrive.aspx\" --header=\"Cookie: MicrosoftApplicationsTelemetryDeviceId=48f04ca2-c4e6-0958-1183-50f51b84c217; MicrosoftApplicationsTelemetryFirstLaunchTime=1663628373112; ExcelWacDataCenter=PUS4; WacDataCenter=PUS4; PowerPointWacDataCenter=PUS4; SIMI=eyJzdCI6MH0=; rtFa=d/ticyP8j8Hk6o+X27HQ4F7ITVswmt12qS/hzeOshismQThFRUMyODEtQUFBMy00REFFLUFDOUItOUEzOThCOTIxNUU3IzEzMzEzMTg1NDU4NzUzMjk1MSM3MTkyNzlBMC0zMDlFLTIwMDAtRDQxMi0zQUNDMjAxQUZDMUUjQ0hPVURIQVJJLlAlNDBOT1JUSEVBU1RFUk4uRURVTSgneEtDD7sCQSG3gpdkZJYFci5yTYCtz7YVLHHd1HkukB/GqGkwgUNWzPi9UXIqDPbn0D1ogMq3mWNn+jCx1JVX78CJa0UyxkIdjauHLNMBk24IwrtVEdpGKRwbUxLARY7BL7PuCbCY7yRlOToZZ5NBIBQa7SnF86CdyxH4IPImz7VNV97JitlcC+6Tic+z3ySDGU1fFAB/fqMMKmiCY0ph9Zyh+J3xMdyolBaXlJFV70JS6M+Vn0LON3PE4UrO4BVZv9gjmtT5fe7M4iLABbGw1kqgCCPvy8i1dXAjkYobJ0FMibz33vMHk5ISrzBi8HIRblYEPhahwRx6g++7B5wAAAA=; FedAuth=77u/PD94bWwgdmVyc2lvbj0iMS4wIiBlbmNvZGluZz0idXRmLTgiPz48U1A+VjEyLDBoLmZ8bWVtYmVyc2hpcHwxMDAzMjAwMDdjNGMzMDQxQGxpdmUuY29tLDAjLmZ8bWVtYmVyc2hpcHxjaG91ZGhhcmkucEBub3J0aGVhc3Rlcm4uZWR1LDEzMzA4MzE4MzA4MDAwMDAwMCwxMzI4MzMwNTk4NTAwMDAwMDAsMTMzMTQyMTg4ODIxNDE4MDc4LDczLjIzNC4xMjIuMjUxLDY3LGE4ZWVjMjgxLWFhYTMtNGRhZS1hYzliLTlhMzk4YjkyMTVlNywsZDcxNDlhZDQtNDkyNC00NmJjLTgyOTMtMDU2MTkxOTlkMGY3LDcxOTI3OWEwLTMwOWUtMjAwMC1kNDEyLTNhY2MyMDFhZmMxZSwwMWQwN2JhMC00MDc1LTIwMDAtZjQzZS00ODc2NGYxZGI3ZDYsLDAsMTMzMTM3OTA0ODIxMjYyMTQ1LDEzMzE0MDQ2MDgyMTI2MjE0NSwsLGV5SjRiWE5mWTJNaU9pSmJYQ0pEVURGY0lsMGlMQ0o0YlhOZmMzTnRJam9pTVNJc0ltRmpjbk1pT2lKYlhDSjFjbTQ2ZFhObGNqcHlaV2RwYzNSbGNuTmxZM1Z5YVhSNWFXNW1iMXdpWFNJc0luQnlaV1psY25KbFpGOTFjMlZ5Ym1GdFpTSTZJbU5vYjNWa2FHRnlhUzV3UUc1dmNuUm9aV0Z6ZEdWeWJpNWxaSFVpTENKMWRHa2lPaUpPWW1SdVIwSldRVXByTWt0WE9GOXNOM1JKTlVGQkluMD0sMTMzMTMxODkwNTg3MjIwNDQwLDEzMzEzMTg1NDU4MDAwMDAwMCxjNjJhNTNhYy1iMGZkLTQyNDQtYmE3MC1kODQ1YmEwOTMwY2QsLCwsLCwwLCxHVXQ5UlpNYVhYVE9ENWZoK09yMDd6endwZWcyQXdZc3IxQ2JpeHkvc3BLam01OG5JZE12UW4xUFc2dlFWcjJjOUhYK2dnZGd3V0l3L1BuWWhnS25odms3UmQ0VU1DSVBZSnQ4b0VpUjNhL2hJWktTM3BJOHR3VFcwbzRqQThkTXZrOENSODU0Q0UwY0tha0YzRUNqSWJlMnMwMHRxWXdzVThxZjdxL2dLZVBySy9KKzEzV0xDVE9sREk5TmFiRXRCRHdDWU5ic2JYbU1wbFVwQUx5aVBwM2NDQURvTmxqSVB6NmdOSFpiOWg1WHdoMlFlcXhUdzlla3BvSGRJMHF6UDVwVnFCZ1JkKzF2dHdYc3VnS0RaUFNEbGRZWWtsZUZKcFBJd0FoUnFRazgxM2pMRlBTNHNtVWF0WDhNZWhCckNuVTcrVStXaHJXTk1nTG9nbkZkZUE9PTwvU1A+; odbn=1; WSS_FullScreenMode=false\" --header=\"Connection: keep-alive\" \"https://northeastern-my.sharepoint.com/personal/choudhari_p_northeastern_edu/_layouts/15/download.aspx?UniqueId=e12465f9%2De777%2D449b%2D872d%2De2305eaed74f\" -c -O 'training_batch_800_809.csv'"
   ]
  },
  {
   "cell_type": "markdown",
   "id": "0a4544b9",
   "metadata": {},
   "source": [
    "### Reading the data"
   ]
  },
  {
   "cell_type": "code",
   "execution_count": 4,
   "id": "8128c72d-3048-49fe-8cbd-acbcadc561d2",
   "metadata": {
    "tags": []
   },
   "outputs": [],
   "source": [
    "import pandas as pd\n",
    "data = pd.read_csv('training_batch_800_809.csv')"
   ]
  },
  {
   "cell_type": "markdown",
   "id": "e931e65e",
   "metadata": {},
   "source": [
    "Tokenize the AbstractText data."
   ]
  },
  {
   "cell_type": "code",
   "execution_count": 10,
   "id": "0552748f-8e00-45e2-a00c-1b91328c2500",
   "metadata": {
    "tags": []
   },
   "outputs": [],
   "source": [
    "from tensorflow.keras.preprocessing import text\n",
    "imaginary_list = []\n",
    "\n",
    "max_features = 283759\n",
    "maxlen = 250\n",
    "\n",
    "tokenizer = text.Tokenizer(num_words=max_features)\n",
    "tokenizer.fit_on_texts(data['AbstractText'].to_list())\n",
    "train_sequence = tokenizer.texts_to_sequences(data['AbstractText'].to_list())"
   ]
  },
  {
   "cell_type": "markdown",
   "id": "72233d64",
   "metadata": {},
   "source": [
    "Extracting only the training words"
   ]
  },
  {
   "cell_type": "code",
   "execution_count": 11,
   "id": "15bb7035-bca0-4fda-a440-f9343450567a",
   "metadata": {
    "tags": []
   },
   "outputs": [],
   "source": [
    "training_words = tokenizer.word_index.keys()"
   ]
  },
  {
   "cell_type": "code",
   "execution_count": 13,
   "id": "51c1f315-4551-49a7-82c4-103f5b48741a",
   "metadata": {
    "tags": []
   },
   "outputs": [
    {
     "data": {
      "text/plain": [
       "300765"
      ]
     },
     "execution_count": 13,
     "metadata": {},
     "output_type": "execute_result"
    }
   ],
   "source": [
    "len(training_words)"
   ]
  },
  {
   "cell_type": "markdown",
   "id": "fea00d09",
   "metadata": {},
   "source": [
    "### Loading the model in memory"
   ]
  },
  {
   "cell_type": "code",
   "execution_count": 14,
   "id": "87bdb9fe-63e9-4d54-89d0-367a1e78f851",
   "metadata": {
    "tags": []
   },
   "outputs": [],
   "source": [
    "from gensim.models import KeyedVectors\n",
    "from gensim import models\n",
    "\n",
    "word2vec_path = 'BioWordVec_PubMed_MIMICIII_d200.vec.bin'\n",
    "w2v_model = models.KeyedVectors.load_word2vec_format(word2vec_path, binary=True)"
   ]
  },
  {
   "cell_type": "code",
   "execution_count": 19,
   "id": "3abaa83c-7c56-45da-91df-8dc203cc0e9c",
   "metadata": {
    "tags": []
   },
   "outputs": [],
   "source": [
    "universal_list = set(w2v_model.index_to_key)"
   ]
  },
  {
   "cell_type": "code",
   "execution_count": 20,
   "id": "e7d8a9f3-06eb-4fe0-9b9d-50387c0fb18e",
   "metadata": {
    "tags": []
   },
   "outputs": [],
   "source": [
    "remove_list = set(training_words).difference(universal_list)"
   ]
  },
  {
   "cell_type": "code",
   "execution_count": 21,
   "id": "8430e5c6-24b2-4b03-9812-8e2ac183bc75",
   "metadata": {
    "tags": []
   },
   "outputs": [
    {
     "data": {
      "text/plain": [
       "42109"
      ]
     },
     "execution_count": 21,
     "metadata": {},
     "output_type": "execute_result"
    }
   ],
   "source": [
    "len(remove_list)"
   ]
  },
  {
   "cell_type": "code",
   "execution_count": 23,
   "id": "96d3a99a-ccdd-4eb2-a837-de84b9813f69",
   "metadata": {
    "tags": []
   },
   "outputs": [],
   "source": [
    "# Interesection\n",
    "slice_vocab = set(training_words).intersection(universal_list)"
   ]
  },
  {
   "cell_type": "code",
   "execution_count": 24,
   "id": "7d6af981-a8a5-4d18-b635-bb2672d23be4",
   "metadata": {
    "tags": []
   },
   "outputs": [
    {
     "data": {
      "text/plain": [
       "258656"
      ]
     },
     "execution_count": 24,
     "metadata": {},
     "output_type": "execute_result"
    }
   ],
   "source": [
    "len(slice_vocab)"
   ]
  },
  {
   "cell_type": "code",
   "execution_count": 31,
   "id": "a40956db-2016-405a-ad05-5d54c2ed292b",
   "metadata": {
    "tags": []
   },
   "outputs": [
    {
     "data": {
      "text/plain": [
       "'mesomeres'"
      ]
     },
     "execution_count": 31,
     "metadata": {},
     "output_type": "execute_result"
    }
   ],
   "source": [
    "list(slice_vocab)[1]"
   ]
  },
  {
   "cell_type": "markdown",
   "id": "ed05e8a1",
   "metadata": {},
   "source": [
    "### Embedding dictionary"
   ]
  },
  {
   "cell_type": "code",
   "execution_count": 35,
   "id": "b6e624ca-bb30-4b00-9005-1eff55c8e7d1",
   "metadata": {
    "tags": []
   },
   "outputs": [],
   "source": [
    "# Dictionary mapping\n",
    "embedding_lookup = {}\n",
    "for i in list(slice_vocab):\n",
    "    embedding_lookup[i] = w2v_model.__getitem__(i)"
   ]
  },
  {
   "cell_type": "code",
   "execution_count": 37,
   "id": "5e8d5425-e420-4d5c-94d8-53bb46075d8a",
   "metadata": {
    "tags": []
   },
   "outputs": [
    {
     "data": {
      "text/plain": [
       "258656"
      ]
     },
     "execution_count": 37,
     "metadata": {},
     "output_type": "execute_result"
    }
   ],
   "source": [
    "len(embedding_lookup)"
   ]
  },
  {
   "cell_type": "markdown",
   "id": "e7cceb71",
   "metadata": {},
   "source": [
    "### Saving file as pickle and storing to S3 bucket"
   ]
  },
  {
   "cell_type": "code",
   "execution_count": 39,
   "id": "e095cefe-8912-4820-973b-5c6e515eb9f6",
   "metadata": {
    "tags": []
   },
   "outputs": [],
   "source": [
    "import pickle"
   ]
  },
  {
   "cell_type": "code",
   "execution_count": 40,
   "id": "2038cc8e-5875-4a19-8d86-29295a9a1bdf",
   "metadata": {
    "tags": []
   },
   "outputs": [],
   "source": [
    "with open('vector_subset.pickle', 'wb') as handle:\n",
    "    pickle.dump(embedding_lookup, handle, protocol=pickle.HIGHEST_PROTOCOL)"
   ]
  },
  {
   "cell_type": "code",
   "execution_count": 44,
   "id": "3319914a-8074-4f92-b421-6fedbecd027d",
   "metadata": {
    "tags": []
   },
   "outputs": [],
   "source": [
    "bucket='wherewillway'\n",
    "key='vector_subset.pickle'"
   ]
  },
  {
   "cell_type": "code",
   "execution_count": 45,
   "id": "16cd29fb-337e-4628-ab62-90e90a052c29",
   "metadata": {
    "tags": []
   },
   "outputs": [],
   "source": [
    "import logging\n",
    "import boto3\n",
    "from botocore.exceptions import ClientError\n",
    "import os\n",
    "\n",
    "\n",
    "def upload_file(file_name, bucket, object_name=None):\n",
    "    \"\"\"Upload a file to an S3 bucket\n",
    "\n",
    "    :param file_name: File to upload\n",
    "    :param bucket: Bucket to upload to\n",
    "    :param object_name: S3 object name. If not specified then file_name is used\n",
    "    :return: True if file was uploaded, else False\n",
    "    \"\"\"\n",
    "\n",
    "    # If S3 object_name was not specified, use file_name\n",
    "    if object_name is None:\n",
    "        object_name = os.path.basename(file_name)\n",
    "\n",
    "    # Upload the file\n",
    "    s3_client = boto3.client('s3')\n",
    "    try:\n",
    "        response = s3_client.upload_file(file_name, bucket, object_name)\n",
    "    except ClientError as e:\n",
    "        logging.error(e)\n",
    "        return False\n",
    "    return True"
   ]
  },
  {
   "cell_type": "code",
   "execution_count": 46,
   "id": "8fd690c6-c467-4625-bcd5-cf12a4476f9e",
   "metadata": {
    "tags": []
   },
   "outputs": [],
   "source": [
    "s3 = boto3.client('s3')\n",
    "with open(key, \"rb\") as f:\n",
    "    s3.upload_fileobj(f,bucket, key)"
   ]
  },
  {
   "cell_type": "code",
   "execution_count": null,
   "id": "22f57434-bc18-4852-8d7f-304c5752fef5",
   "metadata": {},
   "outputs": [],
   "source": []
  }
 ],
 "metadata": {
  "instance_type": "ml.m5.4xlarge",
  "kernelspec": {
   "display_name": "Python 3 (Data Science)",
   "language": "python",
   "name": "python3__SAGEMAKER_INTERNAL__arn:aws:sagemaker:us-east-1:081325390199:image/datascience-1.0"
  },
  "language_info": {
   "codemirror_mode": {
    "name": "ipython",
    "version": 3
   },
   "file_extension": ".py",
   "mimetype": "text/x-python",
   "name": "python",
   "nbconvert_exporter": "python",
   "pygments_lexer": "ipython3",
   "version": "3.7.10"
  }
 },
 "nbformat": 4,
 "nbformat_minor": 5
}
