{
 "cells": [
  {
   "cell_type": "markdown",
   "id": "e11ac53a-cc99-4d9d-8b5d-9349a24027cc",
   "metadata": {},
   "source": [
    "# Calculating the mean vectors for test set\n",
    "\n",
    "In this notebook we will calculate the mean vectors for the test abstracts."
   ]
  },
  {
   "cell_type": "markdown",
   "id": "1eb42997-7cf5-48e9-ab61-19764646afb1",
   "metadata": {},
   "source": [
    "### Fetch the data"
   ]
  },
  {
   "cell_type": "code",
   "execution_count": 2,
   "id": "8acccb09-cd78-4020-9311-f1498dbf939c",
   "metadata": {
    "tags": []
   },
   "outputs": [
    {
     "name": "stdout",
     "output_type": "stream",
     "text": [
      "--2022-12-09 13:51:00--  https://northeastern-my.sharepoint.com/personal/choudhari_p_northeastern_edu/_layouts/15/download.aspx?UniqueId=e12465f9%2De777%2D449b%2D872d%2De2305eaed74f\n",
      "Resolving northeastern-my.sharepoint.com (northeastern-my.sharepoint.com)... 13.107.136.9, 13.107.138.9\n",
      "Connecting to northeastern-my.sharepoint.com (northeastern-my.sharepoint.com)|13.107.136.9|:443... connected.\n",
      "HTTP request sent, awaiting response... 416 Requested Range Not Satisfiable\n",
      "\n",
      "    The file is already fully retrieved; nothing to do.\n",
      "\n"
     ]
    }
   ],
   "source": [
    "!wget --header=\"Host: northeastern-my.sharepoint.com\" --header=\"User-Agent: Mozilla/5.0 (Windows NT 10.0; Win64; x64) AppleWebKit/537.36 (KHTML, like Gecko) Chrome/107.0.0.0 Safari/537.36 Edg/107.0.1418.62\" --header=\"Accept: text/html,application/xhtml+xml,application/xml;q=0.9,image/webp,image/apng,*/*;q=0.8,application/signed-exchange;v=b3;q=0.9\" --header=\"Accept-Language: en-US,en;q=0.9\" --header=\"Referer: https://northeastern-my.sharepoint.com/personal/choudhari_p_northeastern_edu/_layouts/15/onedrive.aspx\" --header=\"Cookie: MicrosoftApplicationsTelemetryDeviceId=48f04ca2-c4e6-0958-1183-50f51b84c217; MicrosoftApplicationsTelemetryFirstLaunchTime=1663628373112; ExcelWacDataCenter=PUS4; WacDataCenter=PUS4; PowerPointWacDataCenter=PUS4; SIMI=eyJzdCI6MH0=; rtFa=d/ticyP8j8Hk6o+X27HQ4F7ITVswmt12qS/hzeOshismQThFRUMyODEtQUFBMy00REFFLUFDOUItOUEzOThCOTIxNUU3IzEzMzE0MjIwMjk1MTYyNDM2OCM1NzZEN0RBMC1DMDM5LTIwMDAtRjQzRS00Rjk3MkE5NUY1RTYjQ0hPVURIQVJJLlAlNDBOT1JUSEVBU1RFUk4uRURVTbIuCQRcCLICeoNL9/U1EfPApurLjhO4rgK4DzYwNrGGkGJ5ytM2vCjjwG6goWj6l6FFgW9EqPMi7oUg3nsXMZe5pb8Nn1mWMNp+XtkodEzreowSciZQUy3/GBdj3qDl/WlDqOItTDcXh22J1MEFxgTDx6iGKZVeLv9ikYRi/xNfPjUeRxNB9qlmlH0YBHO7TxsKYHnF6l6CwE9F8KiLDSFbEILaOWflfDMM+j7KSP2FwW4XTk0ODQtlb88FX89VojAIyApklDy7aDorPuKtZkGpw5RT641OVkrnLt+xGu+ko6ZBmWGqFs53lBY90y9qz2ycD02eg/lrsYMVjjHeZJwAAAA=; odbn=1; FedAuth=77u/PD94bWwgdmVyc2lvbj0iMS4wIiBlbmNvZGluZz0idXRmLTgiPz48U1A+VjEzLDBoLmZ8bWVtYmVyc2hpcHwxMDAzMjAwMDdjNGMzMDQxQGxpdmUuY29tLDAjLmZ8bWVtYmVyc2hpcHxjaG91ZGhhcmkucEBub3J0aGVhc3Rlcm4uZWR1LDEzMzE0MjIwMjg1MDAwMDAwMCwxMzI4MzMwNTk4NTAwMDAwMDAsMTMzMTU0OTUwNTQyMDY3OTc3LDczLjIzNC4xMjIuMjUxLDY3LGE4ZWVjMjgxLWFhYTMtNGRhZS1hYzliLTlhMzk4YjkyMTVlNywsZDcxNDlhZDQtNDkyNC00NmJjLTgyOTMtMDU2MTkxOTlkMGY3LDU3NmQ3ZGEwLWMwMzktMjAwMC1mNDNlLTRmOTcyYTk1ZjVlNiwwZTkxODBhMC00MGU5LTIwMDAtZjQzZS00ZTAxZTcwYmY4OWEsLDAsMTMzMTUwNjY2NTQyMDY3OTc3LDEzMzE1MzIyMjU0MjA2Nzk3NywsLGV5SjRiWE5mWTJNaU9pSmJYQ0pEVURGY0lsMGlMQ0o0YlhOZmMzTnRJam9pTVNJc0ltRmpjbk1pT2lKYlhDSjFjbTQ2ZFhObGNqcHlaV2RwYzNSbGNuTmxZM1Z5YVhSNWFXNW1iMXdpWFNJc0luQnlaV1psY25KbFpGOTFjMlZ5Ym1GdFpTSTZJbU5vYjNWa2FHRnlhUzV3UUc1dmNuUm9aV0Z6ZEdWeWJpNWxaSFVpTENKMWRHa2lPaUpxVUZGVlpYbHJMVEJWTWxKNWVFaENaRWxrVWtGbkluMD0sMTMzMTQyMjM4OTUxNDY4NDM1LDEzMzE0MjIwMjk0MDAwMDAwMCxjNjJhNTNhYy1iMGZkLTQyNDQtYmE3MC1kODQ1YmEwOTMwY2QsLCwsLCwwLCxVU18yMTJfQ29udGVudCxhUkVWcVd6bVZveVNHbk41OElFQ0hxaEwzb0dES2RDcHhYYmhuTlJ1K211bVVmQ051Y25PRy96UENYUnhlVjVqaXRWb3hXSzZIeGFDOXFNcUFGRzBtcXV5d3BSU1hRNUF4NjBkd0kzbXN4V1daSk1UMHE3OTRmQlZHelYvQXhubDBCZXE5dkJGRGlvSU96U1VLR1d0R2w0T2YwczZ0Q2JMNGt2TFFsbmc2VHBXQ2ZCNU1yeVgzdUlodGRJQThicE9QNnpwUjJ2Ykw1YTNVVmhtZHhOSXdXeWZPQVYwQXgxSGJKYzFUL09waVh2NHRMdFRrTzVBV0dKS0tRSnIzYWMxdzlYa1p6SXM0MW9tZ2lVd2wvN3RoK0JmSWROeEpHcmszL3FkUTlrRE1hZmh4OHFTbitHaE5wK1N1UHhBdDZiQzI1VDVVRWMvYXBPcXVzbnFzTzh1U0E9PTwvU1A+\" --header=\"Connection: keep-alive\" \"https://northeastern-my.sharepoint.com/personal/choudhari_p_northeastern_edu/_layouts/15/download.aspx?UniqueId=e12465f9%2De777%2D449b%2D872d%2De2305eaed74f\" -c -O 'training_batch_800_809.csv'"
   ]
  },
  {
   "cell_type": "code",
   "execution_count": 4,
   "id": "3f9fb0ec-cc39-46ec-be17-3534a90fb11a",
   "metadata": {
    "tags": []
   },
   "outputs": [
    {
     "name": "stdout",
     "output_type": "stream",
     "text": [
      "--2022-12-09 12:40:54--  https://doc-04-6o-docs.googleusercontent.com/docs/securesc/6fglfng6gsfg8svq9gbkvr4bflmoufjj/o1b7bkhvgg5rh4a16gf1o6nhr3fr116n/1670589600000/17060459648485421300/17060459648485421300/1y-DfnKJRJCmz9LZw9evgPxhsIC2P5bqD?e=download&ax=AEKYgyS6mloMsmtiKRLoOuuC5ibTTV93EdbnNSGYywdK0ve82XRzDu9NnXpe5UcH5OHmBFoj2u8N0kLTjd4x5gd84gWihB137u_TViTy--ucRLpFlPTJ7_YqdnXDfMHlzs3bPZ5bLPFhiGWmGR3arfMA2bQQLvw0Y6tMSZlo-kXB4tndE1vDnu5fJ0LWpkG0dlIMCkBDMw4Gx5DDwzVNW6hlQU2KYgOAtjCh9vWBrIn3ZMCHtBhc0ltmgJklfecztwKgkq0GdnommRK1c8C9eEjnZU31JVz_h6YHC-pB06WMYxoqBNH49X6ouWAV2A7PXEzoZt5KNXwV433TaykQ8UBROEYOCyBME_v3Uyu_vrWT0Yl6rSWotphNTj9i7EM-j6JAg1_-kPpQWv_YIwSo42PplkoKGNrZnv-IhDPY9k5i5y7FfsGLqXA2l4Cffo1eI-IoHItBR-oQUY6Rhr053q78hbHtDXTqI7GHVLmMegmXVAUoHrtZI1KiuR5NuDM3LQPxBfj7ZJidStkJTFAGNE18d1PgsduN_cSSfV5HRdWUPLqeKkL_k8i7TVRHFzeIO-b18BQB5wX_qP8XV0DtgzZ6844kEPIuHG-wIApSRTUJvZyexG3paJmAuVR6A9BHycnQJ6MsOctl9n20w_3B876ScACR4K2trhdfghVFDQn0TnOcPUniWllwiR3DKVlsKxyWyB1ARc34o9a76zfalWM2dPrcSOkIOmDSMnMNPm9EpiOb-R2roFiMRbo-yiiN5rDLX40FWzBsyK2TUZLcVabQX5babuOvH0KseN3e6s8y4EWxqyX7JuK6hawu1WINrztiGf5IxudyzYOFv-tP07k4M4PzkP_ki__gz5BPoJrUmQW9UweeP5XUNcxF9KeKqYyNV-ph409PSRJtKzTbRzIgP7ZDbF_ydaEXg_TF4lBOE3Ntz6dIhQSdx0Sk6yjzttBHGIzmejYIitnLTpqmBJmMSqvXdqXkFvZ79nUzymwjYfcJOpIDhF4oDBeoLjD_mjj8CPtvhTB9UBVG91hEaBW5qK3BAnw7ZC2hqXrqmEGvuk1ou8d4v5I&uuid=06342269-1d50-4a5d-8e78-9afaa9d0769e&authuser=2\n",
      "Resolving doc-04-6o-docs.googleusercontent.com (doc-04-6o-docs.googleusercontent.com)... 142.250.65.65, 2607:f8b0:4004:c07::84\n",
      "Connecting to doc-04-6o-docs.googleusercontent.com (doc-04-6o-docs.googleusercontent.com)|142.250.65.65|:443... connected.\n",
      "HTTP request sent, awaiting response... 200 OK\n",
      "Length: 218358784 (208M) [application/octet-stream]\n",
      "Saving to: ‘vector_subset.pkl’\n",
      "\n",
      "vector_subset.pkl   100%[===================>] 208.24M   211MB/s    in 1.0s    \n",
      "\n",
      "2022-12-09 12:40:55 (211 MB/s) - ‘vector_subset.pkl’ saved [218358784/218358784]\n",
      "\n"
     ]
    }
   ],
   "source": [
    "!wget --header=\"Host: doc-04-6o-docs.googleusercontent.com\" --header=\"User-Agent: Mozilla/5.0 (Windows NT 10.0; Win64; x64) AppleWebKit/537.36 (KHTML, like Gecko) Chrome/107.0.0.0 Safari/537.36 Edg/107.0.1418.62\" --header=\"Accept: text/html,application/xhtml+xml,application/xml;q=0.9,image/webp,image/apng,*/*;q=0.8,application/signed-exchange;v=b3;q=0.9\" --header=\"Accept-Language: en-US,en;q=0.9\" --header=\"Cookie: AUTH_q396glqdcuo3cgp14o8502qdk4gju650=17060459648485421300|1670589600000|f35g859rqvaira9ofmmeor538ntgat17\" --header=\"Connection: keep-alive\" \"https://doc-04-6o-docs.googleusercontent.com/docs/securesc/6fglfng6gsfg8svq9gbkvr4bflmoufjj/o1b7bkhvgg5rh4a16gf1o6nhr3fr116n/1670589600000/17060459648485421300/17060459648485421300/1y-DfnKJRJCmz9LZw9evgPxhsIC2P5bqD?e=download&ax=AEKYgyS6mloMsmtiKRLoOuuC5ibTTV93EdbnNSGYywdK0ve82XRzDu9NnXpe5UcH5OHmBFoj2u8N0kLTjd4x5gd84gWihB137u_TViTy--ucRLpFlPTJ7_YqdnXDfMHlzs3bPZ5bLPFhiGWmGR3arfMA2bQQLvw0Y6tMSZlo-kXB4tndE1vDnu5fJ0LWpkG0dlIMCkBDMw4Gx5DDwzVNW6hlQU2KYgOAtjCh9vWBrIn3ZMCHtBhc0ltmgJklfecztwKgkq0GdnommRK1c8C9eEjnZU31JVz_h6YHC-pB06WMYxoqBNH49X6ouWAV2A7PXEzoZt5KNXwV433TaykQ8UBROEYOCyBME_v3Uyu_vrWT0Yl6rSWotphNTj9i7EM-j6JAg1_-kPpQWv_YIwSo42PplkoKGNrZnv-IhDPY9k5i5y7FfsGLqXA2l4Cffo1eI-IoHItBR-oQUY6Rhr053q78hbHtDXTqI7GHVLmMegmXVAUoHrtZI1KiuR5NuDM3LQPxBfj7ZJidStkJTFAGNE18d1PgsduN_cSSfV5HRdWUPLqeKkL_k8i7TVRHFzeIO-b18BQB5wX_qP8XV0DtgzZ6844kEPIuHG-wIApSRTUJvZyexG3paJmAuVR6A9BHycnQJ6MsOctl9n20w_3B876ScACR4K2trhdfghVFDQn0TnOcPUniWllwiR3DKVlsKxyWyB1ARc34o9a76zfalWM2dPrcSOkIOmDSMnMNPm9EpiOb-R2roFiMRbo-yiiN5rDLX40FWzBsyK2TUZLcVabQX5babuOvH0KseN3e6s8y4EWxqyX7JuK6hawu1WINrztiGf5IxudyzYOFv-tP07k4M4PzkP_ki__gz5BPoJrUmQW9UweeP5XUNcxF9KeKqYyNV-ph409PSRJtKzTbRzIgP7ZDbF_ydaEXg_TF4lBOE3Ntz6dIhQSdx0Sk6yjzttBHGIzmejYIitnLTpqmBJmMSqvXdqXkFvZ79nUzymwjYfcJOpIDhF4oDBeoLjD_mjj8CPtvhTB9UBVG91hEaBW5qK3BAnw7ZC2hqXrqmEGvuk1ou8d4v5I&uuid=06342269-1d50-4a5d-8e78-9afaa9d0769e&authuser=2\" -c -O 'vector_subset.pkl'"
   ]
  },
  {
   "cell_type": "code",
   "execution_count": 3,
   "id": "2294ab05-f17e-4b84-82ca-1bacf44abdd8",
   "metadata": {
    "tags": []
   },
   "outputs": [
    {
     "name": "stdout",
     "output_type": "stream",
     "text": [
      "--2022-12-09 12:40:32--  https://doc-0s-6o-docs.googleusercontent.com/docs/securesc/6fglfng6gsfg8svq9gbkvr4bflmoufjj/43ek3u239pl5k1ah4b4vlsh7smvkcnpp/1670589600000/17060459648485421300/17060459648485421300/1-4Fq9dlYz46myF9wA3rd_CzUEu821pEx?e=download&ax=AEKYgyRd6qzs36Jl_8OFsBCFqGXpmBtBcIrMTmsxJieue_VFb7K6zZmTPHVFoMtvd2sTFH7QvKHdhjsIvLkhunivIOYVrAylzmw1KwLOV2pkYmRjonT_cOJoX1Lm9rqRLJCYr2uIKFRnA7eVfsui258TSePM3Qw22-M5nu75IG_nuQ8XsuFDvD4c_4gJ9qsBjLIj1TdQH2jHNL96FSAyIIATfFTVfMy8EL2w8WRttNaU5YqmXbBr3kj5_BqvXHardqMzKY3ROCWVvr1bRXVij5B2xK9VmknUxezoWlmYwJi002uwQXrZmbCq6-Dya8nndNKYgo21JX7tktEKZNAH1W4iqB3vu-0tEa58TdqwtZ5H33-ATEeIzgaQDpGTfTwvKb_ip8rSoH2jy3kKWh5O_5HsWECA7pWdC902M9fPTwWLZyNCTGHFdLGRZY5qnPRRYWPqVtv7ApkbL5DWy0j_oCM3XQNwJUls3an_XvYWglaqG1uC-fgm-ZB5nBO1XPQOJpEJoSGlH0virv857gCQXJh-LpX6tFFAMHUwhpHg9tTCxxlgvvwLVWYMFnjN0mjKHrSVTZjixekzGpPCcwAPEI_d3gsVnzPlJ8jjSgqthv1RM2qN3WuGCIudlHVHpMHQED-i78GAEyu1MOYgYgYmyUZ-8w0exF9tqjtTLS67Qc48-QOfwSFp6XCQNm78kM9wjL0T2HQVd5u9yMZ9JGx5aOiCqVBrjzWtj6V47Cnh5g3DwtJtbioG_UzNyu4nmwdR_D8CJez__1VIbu53XhxPRYTQ6XSzL6-0op_UA9z4Jf0Mwo1nm7nlHMWSdMU4IyHuseVhKaNMYgMNL8e0fw_hRpxFqJikuRmTRM4JvtI4nsVK4jeD3ND6AqRbP0deQHr3bMHi7ICGoc7xq7E2AlG6rY0WPmm9wc7yiZfSAfjeKnl1FpMLB5Qgxx0CY0JzsScUkL91_uOAB4ZN0wIGX2a0_kOQQW7bk2U6G9NDJ0XDWRw6lBPRZKiJN1iaciBO7kXY08V3_eTFR4qCzqzGtrBqahpkoeHkS6mlP9XsG71j5sfO63khRpUgCHs&uuid=25c1acfa-eb14-4085-9b2a-f1141c019db9&authuser=2&nonce=b0sr4kunm2djq&user=17060459648485421300&hash=0uvarul35ujtajdpjukvo3p9loaolg6q\n",
      "Resolving doc-0s-6o-docs.googleusercontent.com (doc-0s-6o-docs.googleusercontent.com)... 172.253.62.132, 2607:f8b0:4004:c1b::84\n",
      "Connecting to doc-0s-6o-docs.googleusercontent.com (doc-0s-6o-docs.googleusercontent.com)|172.253.62.132|:443... connected.\n",
      "HTTP request sent, awaiting response... 200 OK\n",
      "Length: 364021575 (347M) [application/octet-stream]\n",
      "Saving to: ‘wi.pkl’\n",
      "\n",
      "wi.pkl              100%[===================>] 347.16M  53.1MB/s    in 7.0s    \n",
      "\n",
      "2022-12-09 12:40:40 (49.4 MB/s) - ‘wi.pkl’ saved [364021575/364021575]\n",
      "\n"
     ]
    }
   ],
   "source": [
    "!wget --header=\"Host: doc-0s-6o-docs.googleusercontent.com\" --header=\"User-Agent: Mozilla/5.0 (Windows NT 10.0; Win64; x64) AppleWebKit/537.36 (KHTML, like Gecko) Chrome/107.0.0.0 Safari/537.36 Edg/107.0.1418.62\" --header=\"Accept: text/html,application/xhtml+xml,application/xml;q=0.9,image/webp,image/apng,*/*;q=0.8,application/signed-exchange;v=b3;q=0.9\" --header=\"Accept-Language: en-US,en;q=0.9\" --header=\"Cookie: AUTH_q396glqdcuo3cgp14o8502qdk4gju650_nonce=b0sr4kunm2djq\" --header=\"Connection: keep-alive\" \"https://doc-0s-6o-docs.googleusercontent.com/docs/securesc/6fglfng6gsfg8svq9gbkvr4bflmoufjj/43ek3u239pl5k1ah4b4vlsh7smvkcnpp/1670589600000/17060459648485421300/17060459648485421300/1-4Fq9dlYz46myF9wA3rd_CzUEu821pEx?e=download&ax=AEKYgyRd6qzs36Jl_8OFsBCFqGXpmBtBcIrMTmsxJieue_VFb7K6zZmTPHVFoMtvd2sTFH7QvKHdhjsIvLkhunivIOYVrAylzmw1KwLOV2pkYmRjonT_cOJoX1Lm9rqRLJCYr2uIKFRnA7eVfsui258TSePM3Qw22-M5nu75IG_nuQ8XsuFDvD4c_4gJ9qsBjLIj1TdQH2jHNL96FSAyIIATfFTVfMy8EL2w8WRttNaU5YqmXbBr3kj5_BqvXHardqMzKY3ROCWVvr1bRXVij5B2xK9VmknUxezoWlmYwJi002uwQXrZmbCq6-Dya8nndNKYgo21JX7tktEKZNAH1W4iqB3vu-0tEa58TdqwtZ5H33-ATEeIzgaQDpGTfTwvKb_ip8rSoH2jy3kKWh5O_5HsWECA7pWdC902M9fPTwWLZyNCTGHFdLGRZY5qnPRRYWPqVtv7ApkbL5DWy0j_oCM3XQNwJUls3an_XvYWglaqG1uC-fgm-ZB5nBO1XPQOJpEJoSGlH0virv857gCQXJh-LpX6tFFAMHUwhpHg9tTCxxlgvvwLVWYMFnjN0mjKHrSVTZjixekzGpPCcwAPEI_d3gsVnzPlJ8jjSgqthv1RM2qN3WuGCIudlHVHpMHQED-i78GAEyu1MOYgYgYmyUZ-8w0exF9tqjtTLS67Qc48-QOfwSFp6XCQNm78kM9wjL0T2HQVd5u9yMZ9JGx5aOiCqVBrjzWtj6V47Cnh5g3DwtJtbioG_UzNyu4nmwdR_D8CJez__1VIbu53XhxPRYTQ6XSzL6-0op_UA9z4Jf0Mwo1nm7nlHMWSdMU4IyHuseVhKaNMYgMNL8e0fw_hRpxFqJikuRmTRM4JvtI4nsVK4jeD3ND6AqRbP0deQHr3bMHi7ICGoc7xq7E2AlG6rY0WPmm9wc7yiZfSAfjeKnl1FpMLB5Qgxx0CY0JzsScUkL91_uOAB4ZN0wIGX2a0_kOQQW7bk2U6G9NDJ0XDWRw6lBPRZKiJN1iaciBO7kXY08V3_eTFR4qCzqzGtrBqahpkoeHkS6mlP9XsG71j5sfO63khRpUgCHs&uuid=25c1acfa-eb14-4085-9b2a-f1141c019db9&authuser=2&nonce=b0sr4kunm2djq&user=17060459648485421300&hash=0uvarul35ujtajdpjukvo3p9loaolg6q\" -c -O 'wi.pkl'"
   ]
  },
  {
   "cell_type": "code",
   "execution_count": 3,
   "id": "d9fcf610-adc5-49c6-9acc-230ebe4a707e",
   "metadata": {
    "tags": []
   },
   "outputs": [],
   "source": [
    "import pandas as pd\n",
    "data = pd.read_csv('training_batch_800_809.csv')"
   ]
  },
  {
   "cell_type": "code",
   "execution_count": 4,
   "id": "708c320e-6d5b-4987-94d0-767ffbda56e3",
   "metadata": {
    "tags": []
   },
   "outputs": [],
   "source": [
    "from sklearn.model_selection import train_test_split\n",
    "train, test = train_test_split(data, test_size=0.3, random_state=42, shuffle=True)"
   ]
  },
  {
   "cell_type": "code",
   "execution_count": 7,
   "id": "e02aa0f4-cd16-4fad-8974-f06379126c5c",
   "metadata": {
    "tags": []
   },
   "outputs": [],
   "source": [
    "from tensorflow.keras.preprocessing import text\n",
    "max_features = 283759\n",
    "maxlen = 250\n",
    "tokenizer = text.Tokenizer(num_words=max_features)\n",
    "tokenizer.fit_on_texts(train['AbstractText'].to_list())\n",
    "train_sequence = tokenizer.texts_to_sequences(train['AbstractText'].to_list())"
   ]
  },
  {
   "cell_type": "code",
   "execution_count": 8,
   "id": "52492014-fe92-423a-b049-1290a1f033bf",
   "metadata": {
    "tags": []
   },
   "outputs": [],
   "source": [
    "test_sequence = tokenizer.texts_to_sequences(test['AbstractText'].to_list())"
   ]
  },
  {
   "cell_type": "code",
   "execution_count": 13,
   "id": "1b5c5d3c-9b52-43e8-990b-45eae0abcf26",
   "metadata": {
    "tags": []
   },
   "outputs": [],
   "source": [
    "import pickle\n",
    "with open('wi.pkl','rb') as f:\n",
    "    ul = pickle.load(f)"
   ]
  },
  {
   "cell_type": "code",
   "execution_count": 14,
   "id": "f1d664e0-cc77-4357-8715-919df5df519b",
   "metadata": {
    "tags": []
   },
   "outputs": [],
   "source": [
    "remove_set = set(tokenizer.word_index.keys()).difference(set(ul))\n",
    "remove_set = [tokenizer.word_index[i] for i in remove_set]"
   ]
  },
  {
   "cell_type": "code",
   "execution_count": 15,
   "id": "176ea112-ec67-4418-863b-698f8bdca308",
   "metadata": {
    "tags": []
   },
   "outputs": [],
   "source": [
    "import pickle\n",
    "with open('vector_subset.pkl','rb') as f:\n",
    "    vs = pickle.load(f)"
   ]
  },
  {
   "cell_type": "code",
   "execution_count": 16,
   "id": "55643a2d-c17e-4b63-a7e9-c8615d3d9a5f",
   "metadata": {
    "tags": []
   },
   "outputs": [],
   "source": [
    "id_arr = {}\n",
    "for word, arr in vs.items():\n",
    "  if word in tokenizer.word_index:\n",
    "    id_arr[tokenizer.word_index[word]] = arr"
   ]
  },
  {
   "cell_type": "code",
   "execution_count": 18,
   "id": "2c625236-b212-4cab-821e-8ccc82b8fc58",
   "metadata": {
    "tags": []
   },
   "outputs": [],
   "source": [
    "import numpy as np\n",
    "li_test = []\n",
    "for i in test_sequence:\n",
    "  li_test.append(np.array(i))"
   ]
  },
  {
   "cell_type": "code",
   "execution_count": 20,
   "id": "7eed27d7-cb7c-45c2-acf8-a4691b64f8a4",
   "metadata": {
    "tags": []
   },
   "outputs": [],
   "source": [
    "def process(row):\n",
    "  reconstruct_arr = []\n",
    "  for j in row:\n",
    "    if j not in remove_set:\n",
    "      reconstruct_arr.append(id_arr[j])\n",
    "  if len(reconstruct_arr) > 0:\n",
    "    return np.mean(reconstruct_arr, axis=0)\n",
    "  return None"
   ]
  },
  {
   "cell_type": "code",
   "execution_count": 21,
   "id": "6e24257c-10de-432a-a1bc-4d0782a6fe08",
   "metadata": {
    "tags": []
   },
   "outputs": [],
   "source": [
    "import multiprocessing\n",
    "n_workers = multiprocessing.cpu_count()"
   ]
  },
  {
   "cell_type": "code",
   "execution_count": 22,
   "id": "4a1eadee-4cbe-4558-8c95-34b4deeb9dd6",
   "metadata": {
    "tags": []
   },
   "outputs": [
    {
     "data": {
      "text/plain": [
       "16"
      ]
     },
     "execution_count": 22,
     "metadata": {},
     "output_type": "execute_result"
    }
   ],
   "source": [
    "n_workers"
   ]
  },
  {
   "cell_type": "code",
   "execution_count": 23,
   "id": "e1fc779f-5cb6-4336-8ff9-01f4fb6361d6",
   "metadata": {
    "tags": []
   },
   "outputs": [
    {
     "name": "stdout",
     "output_type": "stream",
     "text": [
      "Keyring is skipped due to an exception: 'keyring.backends'\n",
      "Collecting pandarallel\n",
      "  Using cached pandarallel-1.6.3-py3-none-any.whl\n",
      "Requirement already satisfied: pandas>=1 in /opt/conda/lib/python3.7/site-packages (from pandarallel) (1.3.5)\n",
      "Requirement already satisfied: dill>=0.3.1 in /opt/conda/lib/python3.7/site-packages (from pandarallel) (0.3.6)\n",
      "Requirement already satisfied: psutil in /opt/conda/lib/python3.7/site-packages (from pandarallel) (5.6.7)\n",
      "Requirement already satisfied: pytz>=2017.3 in /opt/conda/lib/python3.7/site-packages (from pandas>=1->pandarallel) (2019.3)\n",
      "Requirement already satisfied: numpy>=1.17.3 in /opt/conda/lib/python3.7/site-packages (from pandas>=1->pandarallel) (1.21.6)\n",
      "Requirement already satisfied: python-dateutil>=2.7.3 in /opt/conda/lib/python3.7/site-packages (from pandas>=1->pandarallel) (2.8.2)\n",
      "Requirement already satisfied: six>=1.5 in /opt/conda/lib/python3.7/site-packages (from python-dateutil>=2.7.3->pandas>=1->pandarallel) (1.14.0)\n",
      "Installing collected packages: pandarallel\n",
      "Successfully installed pandarallel-1.6.3\n",
      "\u001b[33mWARNING: Running pip as the 'root' user can result in broken permissions and conflicting behaviour with the system package manager. It is recommended to use a virtual environment instead: https://pip.pypa.io/warnings/venv\u001b[0m\u001b[33m\n",
      "\u001b[0m"
     ]
    }
   ],
   "source": [
    "!pip install pandarallel"
   ]
  },
  {
   "cell_type": "code",
   "execution_count": 24,
   "id": "c453e196-2289-4377-9f2c-387d351ee6e2",
   "metadata": {
    "tags": []
   },
   "outputs": [
    {
     "name": "stdout",
     "output_type": "stream",
     "text": [
      "INFO: Pandarallel will run on 16 workers.\n",
      "INFO: Pandarallel will use Memory file system to transfer data between the main process and workers.\n"
     ]
    },
    {
     "data": {
      "application/vnd.jupyter.widget-view+json": {
       "model_id": "c210b37ceedb407caac8fcb8641a735b",
       "version_major": 2,
       "version_minor": 0
      },
      "text/plain": [
       "VBox(children=(HBox(children=(IntProgress(value=0, description='0.00%', max=3739), Label(value='0 / 3739'))), …"
      ]
     },
     "metadata": {},
     "output_type": "display_data"
    }
   ],
   "source": [
    "from pandarallel import pandarallel\n",
    "\n",
    "pandarallel.initialize(progress_bar=True, nb_workers=n_workers)\n",
    "\n",
    "result_test = pd.Series(li_test).parallel_apply(lambda x: process(x))"
   ]
  },
  {
   "cell_type": "code",
   "execution_count": 25,
   "id": "4b14ba49-8f62-4d2f-bc37-25e426a03068",
   "metadata": {
    "tags": []
   },
   "outputs": [
    {
     "data": {
      "text/plain": [
       "59818"
      ]
     },
     "execution_count": 25,
     "metadata": {},
     "output_type": "execute_result"
    }
   ],
   "source": [
    "len(result_test)"
   ]
  },
  {
   "cell_type": "code",
   "execution_count": 27,
   "id": "c9d4d03a-09a2-4648-824f-07a4cad05d77",
   "metadata": {
    "tags": []
   },
   "outputs": [],
   "source": [
    "import pickle\n",
    "\n",
    "with open('result_test.pkl', 'wb') as f:\n",
    "    pickle.dump(result_test, f)"
   ]
  },
  {
   "cell_type": "code",
   "execution_count": 14,
   "id": "8083638a-ba98-4ed5-8a2a-69e191df21f6",
   "metadata": {
    "tags": []
   },
   "outputs": [],
   "source": [
    "import logging\n",
    "import boto3\n",
    "from botocore.exceptions import ClientError\n",
    "import os\n",
    "\n",
    "\n",
    "def upload_file(file_name, bucket, object_name=None):\n",
    "    \"\"\"Upload a file to an S3 bucket\n",
    "\n",
    "    :param file_name: File to upload\n",
    "    :param bucket: Bucket to upload to\n",
    "    :param object_name: S3 object name. If not specified then file_name is used\n",
    "    :return: True if file was uploaded, else False\n",
    "    \"\"\"\n",
    "\n",
    "    # If S3 object_name was not specified, use file_name\n",
    "    if object_name is None:\n",
    "        object_name = os.path.basename(file_name)\n",
    "\n",
    "    # Upload the file\n",
    "    s3_client = boto3.client('s3')\n",
    "    try:\n",
    "        response = s3_client.upload_file(file_name, bucket, object_name)\n",
    "    except ClientError as e:\n",
    "        logging.error(e)\n",
    "        return False\n",
    "    return True"
   ]
  },
  {
   "cell_type": "code",
   "execution_count": 30,
   "id": "d1de805a-2f9d-41de-9fa1-b8f112bc903f",
   "metadata": {
    "tags": []
   },
   "outputs": [],
   "source": [
    "s3 = boto3.client('s3')\n",
    "with open(\"result_test.pkl\", \"rb\") as f:\n",
    "    s3.upload_fileobj(f, \"sagemaker-studio-123981416266-pd1ra7yevug\", \"result_test.pkl\")"
   ]
  },
  {
   "cell_type": "code",
   "execution_count": 4,
   "id": "ace381f6-d0d4-4dd7-a830-3429248de3dc",
   "metadata": {
    "tags": []
   },
   "outputs": [],
   "source": [
    "import pickle\n",
    "with open('result_test.pkl','rb') as f:\n",
    "    result_test = pickle.load(f)\n",
    "    "
   ]
  },
  {
   "cell_type": "code",
   "execution_count": 7,
   "id": "2da47288-cf40-4d7c-80b7-f13905b93e5d",
   "metadata": {
    "tags": []
   },
   "outputs": [
    {
     "name": "stderr",
     "output_type": "stream",
     "text": [
      "100%|██████████| 59818/59818 [00:03<00:00, 16172.29it/s]\n"
     ]
    }
   ],
   "source": [
    "import pandas as pd\n",
    "from tqdm import tqdm\n",
    "w2vec_data = []\n",
    "for i in tqdm(result_test):\n",
    "    if i is not None:\n",
    "        row = pd.DataFrame(i.reshape(1,-1))\n",
    "    else:\n",
    "        row = pd.DataFrame([None]*result_test[0].shape[0]).T\n",
    "    w2vec_data.append(row)"
   ]
  },
  {
   "cell_type": "code",
   "execution_count": 10,
   "id": "7c1b621c-9333-4ed7-aaff-9418af7be1a5",
   "metadata": {
    "tags": []
   },
   "outputs": [],
   "source": [
    "test_result = pd.concat(w2vec_data,axis=0)"
   ]
  },
  {
   "cell_type": "code",
   "execution_count": 11,
   "id": "d9d93d30-6cdf-4033-8405-61b9fa969714",
   "metadata": {
    "tags": []
   },
   "outputs": [
    {
     "data": {
      "text/html": [
       "<div>\n",
       "<style scoped>\n",
       "    .dataframe tbody tr th:only-of-type {\n",
       "        vertical-align: middle;\n",
       "    }\n",
       "\n",
       "    .dataframe tbody tr th {\n",
       "        vertical-align: top;\n",
       "    }\n",
       "\n",
       "    .dataframe thead th {\n",
       "        text-align: right;\n",
       "    }\n",
       "</style>\n",
       "<table border=\"1\" class=\"dataframe\">\n",
       "  <thead>\n",
       "    <tr style=\"text-align: right;\">\n",
       "      <th></th>\n",
       "      <th>0</th>\n",
       "      <th>1</th>\n",
       "      <th>2</th>\n",
       "      <th>3</th>\n",
       "      <th>4</th>\n",
       "      <th>5</th>\n",
       "      <th>6</th>\n",
       "      <th>7</th>\n",
       "      <th>8</th>\n",
       "      <th>9</th>\n",
       "      <th>...</th>\n",
       "      <th>190</th>\n",
       "      <th>191</th>\n",
       "      <th>192</th>\n",
       "      <th>193</th>\n",
       "      <th>194</th>\n",
       "      <th>195</th>\n",
       "      <th>196</th>\n",
       "      <th>197</th>\n",
       "      <th>198</th>\n",
       "      <th>199</th>\n",
       "    </tr>\n",
       "  </thead>\n",
       "  <tbody>\n",
       "    <tr>\n",
       "      <th>0</th>\n",
       "      <td>0.082008</td>\n",
       "      <td>-0.020358</td>\n",
       "      <td>-0.046844</td>\n",
       "      <td>0.014186</td>\n",
       "      <td>-0.363653</td>\n",
       "      <td>-0.010768</td>\n",
       "      <td>-0.226263</td>\n",
       "      <td>-0.006728</td>\n",
       "      <td>0.394467</td>\n",
       "      <td>0.042276</td>\n",
       "      <td>...</td>\n",
       "      <td>-0.022818</td>\n",
       "      <td>-0.200484</td>\n",
       "      <td>0.273215</td>\n",
       "      <td>0.115748</td>\n",
       "      <td>-0.090341</td>\n",
       "      <td>-0.218736</td>\n",
       "      <td>0.037512</td>\n",
       "      <td>0.254554</td>\n",
       "      <td>-0.086027</td>\n",
       "      <td>-0.459883</td>\n",
       "    </tr>\n",
       "    <tr>\n",
       "      <th>0</th>\n",
       "      <td>0.012590</td>\n",
       "      <td>-0.078206</td>\n",
       "      <td>-0.080054</td>\n",
       "      <td>-0.015618</td>\n",
       "      <td>-0.298240</td>\n",
       "      <td>-0.011571</td>\n",
       "      <td>-0.285303</td>\n",
       "      <td>-0.022241</td>\n",
       "      <td>0.492815</td>\n",
       "      <td>-0.131485</td>\n",
       "      <td>...</td>\n",
       "      <td>-0.060925</td>\n",
       "      <td>-0.227451</td>\n",
       "      <td>0.157828</td>\n",
       "      <td>0.149280</td>\n",
       "      <td>-0.171812</td>\n",
       "      <td>-0.227344</td>\n",
       "      <td>0.059214</td>\n",
       "      <td>0.247225</td>\n",
       "      <td>-0.062226</td>\n",
       "      <td>-0.369558</td>\n",
       "    </tr>\n",
       "    <tr>\n",
       "      <th>0</th>\n",
       "      <td>0.226627</td>\n",
       "      <td>-0.114267</td>\n",
       "      <td>0.105022</td>\n",
       "      <td>0.209133</td>\n",
       "      <td>-0.198502</td>\n",
       "      <td>-0.050014</td>\n",
       "      <td>-0.240705</td>\n",
       "      <td>0.086308</td>\n",
       "      <td>0.465066</td>\n",
       "      <td>0.249485</td>\n",
       "      <td>...</td>\n",
       "      <td>0.100655</td>\n",
       "      <td>-0.234556</td>\n",
       "      <td>-0.011660</td>\n",
       "      <td>0.097724</td>\n",
       "      <td>0.047457</td>\n",
       "      <td>-0.431750</td>\n",
       "      <td>0.187139</td>\n",
       "      <td>0.224654</td>\n",
       "      <td>-0.163126</td>\n",
       "      <td>-0.483930</td>\n",
       "    </tr>\n",
       "    <tr>\n",
       "      <th>0</th>\n",
       "      <td>-0.085689</td>\n",
       "      <td>0.047356</td>\n",
       "      <td>-0.023573</td>\n",
       "      <td>0.037603</td>\n",
       "      <td>-0.362770</td>\n",
       "      <td>0.093465</td>\n",
       "      <td>-0.191159</td>\n",
       "      <td>-0.160410</td>\n",
       "      <td>0.579046</td>\n",
       "      <td>-0.000716</td>\n",
       "      <td>...</td>\n",
       "      <td>-0.043673</td>\n",
       "      <td>-0.141587</td>\n",
       "      <td>0.166886</td>\n",
       "      <td>0.218704</td>\n",
       "      <td>-0.117143</td>\n",
       "      <td>-0.217608</td>\n",
       "      <td>-0.012258</td>\n",
       "      <td>0.103231</td>\n",
       "      <td>-0.070238</td>\n",
       "      <td>-0.391765</td>\n",
       "    </tr>\n",
       "    <tr>\n",
       "      <th>0</th>\n",
       "      <td>0.203743</td>\n",
       "      <td>0.089852</td>\n",
       "      <td>0.189026</td>\n",
       "      <td>0.062631</td>\n",
       "      <td>-0.146686</td>\n",
       "      <td>-0.221598</td>\n",
       "      <td>-0.334623</td>\n",
       "      <td>-0.011931</td>\n",
       "      <td>0.386963</td>\n",
       "      <td>0.062273</td>\n",
       "      <td>...</td>\n",
       "      <td>-0.057577</td>\n",
       "      <td>-0.231434</td>\n",
       "      <td>-0.016519</td>\n",
       "      <td>0.250850</td>\n",
       "      <td>-0.058248</td>\n",
       "      <td>-0.180171</td>\n",
       "      <td>0.110190</td>\n",
       "      <td>0.113757</td>\n",
       "      <td>-0.125509</td>\n",
       "      <td>-0.375015</td>\n",
       "    </tr>\n",
       "  </tbody>\n",
       "</table>\n",
       "<p>5 rows × 200 columns</p>\n",
       "</div>"
      ],
      "text/plain": [
       "        0         1         2         3         4         5         6    \\\n",
       "0  0.082008 -0.020358 -0.046844  0.014186 -0.363653 -0.010768 -0.226263   \n",
       "0  0.012590 -0.078206 -0.080054 -0.015618 -0.298240 -0.011571 -0.285303   \n",
       "0  0.226627 -0.114267  0.105022  0.209133 -0.198502 -0.050014 -0.240705   \n",
       "0 -0.085689  0.047356 -0.023573  0.037603 -0.362770  0.093465 -0.191159   \n",
       "0  0.203743  0.089852  0.189026  0.062631 -0.146686 -0.221598 -0.334623   \n",
       "\n",
       "        7         8         9    ...       190       191       192       193  \\\n",
       "0 -0.006728  0.394467  0.042276  ... -0.022818 -0.200484  0.273215  0.115748   \n",
       "0 -0.022241  0.492815 -0.131485  ... -0.060925 -0.227451  0.157828  0.149280   \n",
       "0  0.086308  0.465066  0.249485  ...  0.100655 -0.234556 -0.011660  0.097724   \n",
       "0 -0.160410  0.579046 -0.000716  ... -0.043673 -0.141587  0.166886  0.218704   \n",
       "0 -0.011931  0.386963  0.062273  ... -0.057577 -0.231434 -0.016519  0.250850   \n",
       "\n",
       "        194       195       196       197       198       199  \n",
       "0 -0.090341 -0.218736  0.037512  0.254554 -0.086027 -0.459883  \n",
       "0 -0.171812 -0.227344  0.059214  0.247225 -0.062226 -0.369558  \n",
       "0  0.047457 -0.431750  0.187139  0.224654 -0.163126 -0.483930  \n",
       "0 -0.117143 -0.217608 -0.012258  0.103231 -0.070238 -0.391765  \n",
       "0 -0.058248 -0.180171  0.110190  0.113757 -0.125509 -0.375015  \n",
       "\n",
       "[5 rows x 200 columns]"
      ]
     },
     "execution_count": 11,
     "metadata": {},
     "output_type": "execute_result"
    }
   ],
   "source": [
    "test_result.tail()"
   ]
  },
  {
   "cell_type": "code",
   "execution_count": 12,
   "id": "821169ac-df63-409d-804d-394ea177066f",
   "metadata": {
    "tags": []
   },
   "outputs": [],
   "source": [
    "test_result.to_csv('pretrained_extract_data_test.csv',index=False)"
   ]
  },
  {
   "cell_type": "code",
   "execution_count": 15,
   "id": "edaa8d74-b47b-4cbf-9053-c6278ea402b3",
   "metadata": {
    "tags": []
   },
   "outputs": [],
   "source": [
    "s3 = boto3.client('s3')\n",
    "with open(\"pretrained_extract_data_test.csv\", \"rb\") as f:\n",
    "    s3.upload_fileobj(f, \"sagemaker-studio-123981416266-pd1ra7yevug\", \"pretrained_extract_data_test.csv\")"
   ]
  }
 ],
 "metadata": {
  "instance_type": "ml.m5.4xlarge",
  "kernelspec": {
   "display_name": "Python 3 (Data Science)",
   "language": "python",
   "name": "python3__SAGEMAKER_INTERNAL__arn:aws:sagemaker:us-east-1:081325390199:image/datascience-1.0"
  },
  "language_info": {
   "codemirror_mode": {
    "name": "ipython",
    "version": 3
   },
   "file_extension": ".py",
   "mimetype": "text/x-python",
   "name": "python",
   "nbconvert_exporter": "python",
   "pygments_lexer": "ipython3",
   "version": "3.7.10"
  },
  "vscode": {
   "interpreter": {
    "hash": "9c8f51c2bcd99038a123efae1ee7756ea171a50d229ddf75d24cb86cabf1426c"
   }
  }
 },
 "nbformat": 4,
 "nbformat_minor": 5
}
