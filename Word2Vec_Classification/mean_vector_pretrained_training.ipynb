{
 "cells": [
  {
   "attachments": {},
   "cell_type": "markdown",
   "id": "aa40ea98",
   "metadata": {},
   "source": [
    "# Mean Vectors for training\n",
    "\n",
    "In this notebook we will find the mean vectors for the training set. "
   ]
  },
  {
   "cell_type": "code",
   "execution_count": 8,
   "id": "8acccb09-cd78-4020-9311-f1498dbf939c",
   "metadata": {
    "tags": []
   },
   "outputs": [
    {
     "name": "stdout",
     "output_type": "stream",
     "text": [
      "--2022-12-01 16:28:25--  https://northeastern-my.sharepoint.com/personal/choudhari_p_northeastern_edu/_layouts/15/download.aspx?UniqueId=e12465f9%2De777%2D449b%2D872d%2De2305eaed74f\n",
      "Resolving northeastern-my.sharepoint.com (northeastern-my.sharepoint.com)... 13.107.136.9, 13.107.138.9\n",
      "Connecting to northeastern-my.sharepoint.com (northeastern-my.sharepoint.com)|13.107.136.9|:443... connected.\n",
      "HTTP request sent, awaiting response... 416 Requested Range Not Satisfiable\n",
      "\n",
      "    The file is already fully retrieved; nothing to do.\n",
      "\n"
     ]
    }
   ],
   "source": [
    "!wget --header=\"Host: northeastern-my.sharepoint.com\" --header=\"User-Agent: Mozilla/5.0 (Windows NT 10.0; Win64; x64) AppleWebKit/537.36 (KHTML, like Gecko) Chrome/107.0.0.0 Safari/537.36 Edg/107.0.1418.62\" --header=\"Accept: text/html,application/xhtml+xml,application/xml;q=0.9,image/webp,image/apng,*/*;q=0.8,application/signed-exchange;v=b3;q=0.9\" --header=\"Accept-Language: en-US,en;q=0.9\" --header=\"Referer: https://northeastern-my.sharepoint.com/personal/choudhari_p_northeastern_edu/_layouts/15/onedrive.aspx\" --header=\"Cookie: MicrosoftApplicationsTelemetryDeviceId=48f04ca2-c4e6-0958-1183-50f51b84c217; MicrosoftApplicationsTelemetryFirstLaunchTime=1663628373112; ExcelWacDataCenter=PUS4; WacDataCenter=PUS4; PowerPointWacDataCenter=PUS4; SIMI=eyJzdCI6MH0=; WSS_FullScreenMode=false; rtFa=d/ticyP8j8Hk6o+X27HQ4F7ITVswmt12qS/hzeOshismQThFRUMyODEtQUFBMy00REFFLUFDOUItOUEzOThCOTIxNUU3IzEzMzE0MjIwMjk1MTYyNDM2OCM1NzZEN0RBMC1DMDM5LTIwMDAtRjQzRS00Rjk3MkE5NUY1RTYjQ0hPVURIQVJJLlAlNDBOT1JUSEVBU1RFUk4uRURVTbIuCQRcCLICeoNL9/U1EfPApurLjhO4rgK4DzYwNrGGkGJ5ytM2vCjjwG6goWj6l6FFgW9EqPMi7oUg3nsXMZe5pb8Nn1mWMNp+XtkodEzreowSciZQUy3/GBdj3qDl/WlDqOItTDcXh22J1MEFxgTDx6iGKZVeLv9ikYRi/xNfPjUeRxNB9qlmlH0YBHO7TxsKYHnF6l6CwE9F8KiLDSFbEILaOWflfDMM+j7KSP2FwW4XTk0ODQtlb88FX89VojAIyApklDy7aDorPuKtZkGpw5RT641OVkrnLt+xGu+ko6ZBmWGqFs53lBY90y9qz2ycD02eg/lrsYMVjjHeZJwAAAA=; FedAuth=77u/PD94bWwgdmVyc2lvbj0iMS4wIiBlbmNvZGluZz0idXRmLTgiPz48U1A+VjEzLDBoLmZ8bWVtYmVyc2hpcHwxMDAzMjAwMDdjNGMzMDQxQGxpdmUuY29tLDAjLmZ8bWVtYmVyc2hpcHxjaG91ZGhhcmkucEBub3J0aGVhc3Rlcm4uZWR1LDEzMzE0MjIwMjg1MDAwMDAwMCwxMzI4MzMwNTk4NTAwMDAwMDAsMTMzMTQ4MTcxNzE5Mjg5MTgzLDczLjIzNC4xMjIuMjUxLDY3LGE4ZWVjMjgxLWFhYTMtNGRhZS1hYzliLTlhMzk4YjkyMTVlNywsZDcxNDlhZDQtNDkyNC00NmJjLTgyOTMtMDU2MTkxOTlkMGY3LDU3NmQ3ZGEwLWMwMzktMjAwMC1mNDNlLTRmOTcyYTk1ZjVlNiw5NDBhN2VhMC1kMDUwLTIwMDAtZjQzZS00OTI5ZDc3ZDU0ZjQsLDAsMTMzMTQzODg3NzE5MTMyNTExLDEzMzE0NjQ0MzcxOTEzMjUxMSwsLGV5SjRiWE5mWTJNaU9pSmJYQ0pEVURGY0lsMGlMQ0o0YlhOZmMzTnRJam9pTVNJc0ltRmpjbk1pT2lKYlhDSjFjbTQ2ZFhObGNqcHlaV2RwYzNSbGNuTmxZM1Z5YVhSNWFXNW1iMXdpWFNJc0luQnlaV1psY25KbFpGOTFjMlZ5Ym1GdFpTSTZJbU5vYjNWa2FHRnlhUzV3UUc1dmNuUm9aV0Z6ZEdWeWJpNWxaSFVpTENKMWRHa2lPaUpxVUZGVlpYbHJMVEJWTWxKNWVFaENaRWxrVWtGbkluMD0sMTMzMTQyMjM4OTUxNDY4NDM1LDEzMzE0MjIwMjk0MDAwMDAwMCxjNjJhNTNhYy1iMGZkLTQyNDQtYmE3MC1kODQ1YmEwOTMwY2QsLCwsLCwwLCxVU18yMTJfQ29udGVudCxzTU5TSi9BcEhJaENUY002aHp0dmJ6OHRzSGpXK0hvMVZUUHgwUGpQc1VJUThOczFaRVdGRDk3emxsaGJtU3hMN2pHVGlIQ2FKZ3YrdkVtaVNWU3IzVkY3KzVMZ09RWmRWVUtEdGFKQXhiQmFjdVRXVFNrbTNIZHVjQ2p4SGxqcjg5djBsRlpKYStwK0ZNQ3BtV0g2ZUlNVjhFMTQ5Q1RUT1RaclVtbXBGVXR5MFJtaE5NQ1FNV09PMHpnY2hyMnY0OGF2ZTlxR3gxNm1LcW5pc3YvU1AxdlRTaDRqdnJVUmRJcEN0TXlWQkdzMXlHS3Rwa29uWlZPenUwY0YxZk5haHdob0hLZzVseFNENGxEQUQxMmtCSEQ0cmI2aGdYZVFySlZRdC95Y1N2cFMxamxCWnFxcThyWUdXZXNHY2hZTU1jeHZEd1FLUUJZdVU0MEN0aUJGN0E9PTwvU1A+; odbn=1\" --header=\"Connection: keep-alive\" \"https://northeastern-my.sharepoint.com/personal/choudhari_p_northeastern_edu/_layouts/15/download.aspx?UniqueId=e12465f9%2De777%2D449b%2D872d%2De2305eaed74f\" -c -O 'training_batch_800_809.csv'"
   ]
  },
  {
   "cell_type": "code",
   "execution_count": 5,
   "id": "3f9fb0ec-cc39-46ec-be17-3534a90fb11a",
   "metadata": {
    "tags": []
   },
   "outputs": [
    {
     "name": "stdout",
     "output_type": "stream",
     "text": [
      "--2022-12-01 16:26:56--  https://doc-04-6o-docs.googleusercontent.com/docs/securesc/6fglfng6gsfg8svq9gbkvr4bflmoufjj/l9b3t2ta73o5li8pe6g2rqhpputaocmf/1669911900000/17060459648485421300/17060459648485421300/1y-DfnKJRJCmz9LZw9evgPxhsIC2P5bqD?e=download&ax=AEKYgyQotFoDwfQ_LYDps8kja08IBmJe4TiyFe2AFGJXbWyRNLi-2bq58jSghI9q2R2C8MGjKsdgt41H5fVITG43Pv-5VNS_GxXuy7YDFjHAizhEYP4U_MWPyth4jJUlmzZ8vZ6CiGVg5mxbnE9JNKHcOpPHS6C9-nLWcdC-nc4L7jErgyQIlU4oxEYVA5GYO3fx61Q2Za5WKuEGkdShozRneIkrRYz8ROgHzR5_bLGoK75x6-N_DwA6uyQu_cLecIRXCUr2kaEu4Oy0NbjGBGI5Qg6VAuQ2CJO7v8rm-SIu3kMGNq9VRYsrGm1VOHJhErpI9mVXjoLNaYkp-KzIeMRv-OqBq9NofoMZURdqkO2XJRp4qj4LSYDUrzlq6R_CSQQovxuJ0Y-HXwDrHA0KFhGFQ7U0WYTQPn1ESWtuBMw5pO-N9fQfdDI1w1dWPvdnJMdUhRpWSk88jNM_KxmqHuqjLnN8wj3RuZXp6rEypzCEl1fwoHKVLVGjk_v42_coN8LTPNf-JBX2NMlzt-OoxGTlyLBIc6m5Ysz2gA-hGZd3xpkSOeAtksoEawkFCFc7Y40ZohxH07AA03TbqedrLHXwkqHZ9Q8vS3GkHfEl4aZKSBakhbdYiUu4ioK2ZeQ_2H8JW0FD9KsstqC917GWmb1OLCNlb035G39M5hMwaKSJRdM2tv1g3b_h_PH-mtBQDH6ix3Q7Gk2OC6uwzaFYrsKiDCH7RCzIqtSinum3E35MWdfPpn6MevqnCRYfl0NoqrAvoAJGbh6QIrGOBrDn0NlEUSgDwnB58L2kO4U12Is9ggTMI1uwKFlGrhS4QA18cpjSXjBwZx2QuilWt7S1-p2P-NkuSMNSNa_orZ2IZuiHSgaMn2HRnM-RJbvvMFjT8auXREiYu2I6A1mfcAmG56hcFW9RoTLQTOi8bgw1XmiIsJoRQovqwhWe1lkQT50Ub5dYxBX2CQcz9Y6Oz0sT4pJgbh33WFw89kwj0kLZeuuTkYEIpYObQSYYFpBqcMLyT220DLrTCThP6j1729xpcqlTYaLFFSansoLOHxIHwLChoALRHxuDV4U&uuid=9e71967d-a8b9-48e9-8196-2a5b65d088be&authuser=2&nonce=egn347s6ib266&user=17060459648485421300&hash=918aojjqchsef3ojqmaojon1ci11b67f\n",
      "Resolving doc-04-6o-docs.googleusercontent.com (doc-04-6o-docs.googleusercontent.com)... 142.250.65.65, 2607:f8b0:4004:c06::84\n",
      "Connecting to doc-04-6o-docs.googleusercontent.com (doc-04-6o-docs.googleusercontent.com)|142.250.65.65|:443... connected.\n",
      "HTTP request sent, awaiting response... 416 Requested range not satisfiable\n",
      "\n",
      "    The file is already fully retrieved; nothing to do.\n",
      "\n"
     ]
    }
   ],
   "source": [
    "!wget --header=\"Host: doc-04-6o-docs.googleusercontent.com\" --header=\"User-Agent: Mozilla/5.0 (Windows NT 10.0; Win64; x64) AppleWebKit/537.36 (KHTML, like Gecko) Chrome/107.0.0.0 Safari/537.36 Edg/107.0.1418.62\" --header=\"Accept: text/html,application/xhtml+xml,application/xml;q=0.9,image/webp,image/apng,*/*;q=0.8,application/signed-exchange;v=b3;q=0.9\" --header=\"Accept-Language: en-US,en;q=0.9\" --header=\"Cookie: AUTH_q396glqdcuo3cgp14o8502qdk4gju650_nonce=egn347s6ib266\" --header=\"Connection: keep-alive\" \"https://doc-04-6o-docs.googleusercontent.com/docs/securesc/6fglfng6gsfg8svq9gbkvr4bflmoufjj/l9b3t2ta73o5li8pe6g2rqhpputaocmf/1669911900000/17060459648485421300/17060459648485421300/1y-DfnKJRJCmz9LZw9evgPxhsIC2P5bqD?e=download&ax=AEKYgyQotFoDwfQ_LYDps8kja08IBmJe4TiyFe2AFGJXbWyRNLi-2bq58jSghI9q2R2C8MGjKsdgt41H5fVITG43Pv-5VNS_GxXuy7YDFjHAizhEYP4U_MWPyth4jJUlmzZ8vZ6CiGVg5mxbnE9JNKHcOpPHS6C9-nLWcdC-nc4L7jErgyQIlU4oxEYVA5GYO3fx61Q2Za5WKuEGkdShozRneIkrRYz8ROgHzR5_bLGoK75x6-N_DwA6uyQu_cLecIRXCUr2kaEu4Oy0NbjGBGI5Qg6VAuQ2CJO7v8rm-SIu3kMGNq9VRYsrGm1VOHJhErpI9mVXjoLNaYkp-KzIeMRv-OqBq9NofoMZURdqkO2XJRp4qj4LSYDUrzlq6R_CSQQovxuJ0Y-HXwDrHA0KFhGFQ7U0WYTQPn1ESWtuBMw5pO-N9fQfdDI1w1dWPvdnJMdUhRpWSk88jNM_KxmqHuqjLnN8wj3RuZXp6rEypzCEl1fwoHKVLVGjk_v42_coN8LTPNf-JBX2NMlzt-OoxGTlyLBIc6m5Ysz2gA-hGZd3xpkSOeAtksoEawkFCFc7Y40ZohxH07AA03TbqedrLHXwkqHZ9Q8vS3GkHfEl4aZKSBakhbdYiUu4ioK2ZeQ_2H8JW0FD9KsstqC917GWmb1OLCNlb035G39M5hMwaKSJRdM2tv1g3b_h_PH-mtBQDH6ix3Q7Gk2OC6uwzaFYrsKiDCH7RCzIqtSinum3E35MWdfPpn6MevqnCRYfl0NoqrAvoAJGbh6QIrGOBrDn0NlEUSgDwnB58L2kO4U12Is9ggTMI1uwKFlGrhS4QA18cpjSXjBwZx2QuilWt7S1-p2P-NkuSMNSNa_orZ2IZuiHSgaMn2HRnM-RJbvvMFjT8auXREiYu2I6A1mfcAmG56hcFW9RoTLQTOi8bgw1XmiIsJoRQovqwhWe1lkQT50Ub5dYxBX2CQcz9Y6Oz0sT4pJgbh33WFw89kwj0kLZeuuTkYEIpYObQSYYFpBqcMLyT220DLrTCThP6j1729xpcqlTYaLFFSansoLOHxIHwLChoALRHxuDV4U&uuid=9e71967d-a8b9-48e9-8196-2a5b65d088be&authuser=2&nonce=egn347s6ib266&user=17060459648485421300&hash=918aojjqchsef3ojqmaojon1ci11b67f\" -c -O 'vector_subset.pkl'"
   ]
  },
  {
   "cell_type": "code",
   "execution_count": null,
   "id": "2294ab05-f17e-4b84-82ca-1bacf44abdd8",
   "metadata": {
    "tags": []
   },
   "outputs": [
    {
     "name": "stdout",
     "output_type": "stream",
     "text": [
      "--2022-12-01 16:26:29--  https://doc-0s-6o-docs.googleusercontent.com/docs/securesc/6fglfng6gsfg8svq9gbkvr4bflmoufjj/f427fpn9p40gcm6bmd4pbok61qi93sge/1669911900000/17060459648485421300/17060459648485421300/1-4Fq9dlYz46myF9wA3rd_CzUEu821pEx?e=download&ax=AEKYgyR8gku1kmIMRFsdZ8znAoF3k-Inq7qZwu0DANqSVuGmdcJn5MPXsiopkCqTEF6LcdhlMrzvXrtTSRNXMdUhkUBgKKIM8iU1I-sUBy4BpYXW291aDnEhTVYRxZ8LckTUsKYgdJUj_Ioz5-zhCPkow0SR2O_NxfuHxq5ef4fgfDKGNP1BgralOEOX7VX6hWMlEFKpQUNeDix5SlWfFqSsea0L1onRzoD1_foAaSVwaprEHMSGLvdqV2o7MZ42QF_ldz23vG52_9ytrYrJPm8xTjrNyeM94ra3aZVFTnSw9c3wyQ2DdaEHVV5_slEhsoou71ozQORoWxnVpTDydiN-Rs7tCg7xw0vTmrketIOgNmprBz5OP1G2rYspl6VPHa38kvhSVCoSxuAnGMhvAjfcWcoxywSHOm8VC_s9Mh9PXZbAyg8iSIWLFLZy3L7i9mRq67LnjFExq4a6aE0BMP5G47vYEw58PpSudrFYqAkDOyvsAuhP_p40hTqRy9TJodfK702y41-SsRKfyfvmDbAXz3B9wE4cNxPPcYEED1mo3JEnZVATrBxfJkKHpdHiGQ5x26Xh2Xj5zVVY8HE6x-TUqwRQL3EEyodWkzfG_PO5LmFXo6JBPALOW36I7IEuxf7nIGEWoKi9eYWDQEc0FDZUgygYrc82ndCI1h7NRQj8IkOE1DFP6SrUOHx4IlUpRY6Cdb3sh2azXVprcn6MIiprOtzK_auEiT-slQqerQ2wXE-9kWHvr7zyKjD3QlPErDGFgT-4QsXLwUmbGoSKHcf8W7V7rw6pv-3KHmSRV6BYZG2X7Pu4AyfHaJAozW_qxq6iP_op3L1ptw8DMou_GMuODX129C1n4mTV3bcBlSHByn0eotU0fUAjI6FD3j7cdDeS8aW6bIzphpi9yEKK282GdNVCnx3gu5mejJ7KUBC1aGWgHM3fiPPW3J2Q_WGTK5GDuqkro835yxtRtV-43Wswp23NUfFwu6PVCpF0J_uAK1M8X9cc3oCLT3huZfPWovvsiCsUeFEw4IJPszSuZoqisGgvX2SqVjnwQCDTw8po1XS1NTu-ceQ&uuid=738779d4-3480-446a-9b37-1a4e4cee9e7f&authuser=2\n",
      "Resolving doc-0s-6o-docs.googleusercontent.com (doc-0s-6o-docs.googleusercontent.com)... 142.251.163.132, 2607:f8b0:4004:807::2001\n",
      "Connecting to doc-0s-6o-docs.googleusercontent.com (doc-0s-6o-docs.googleusercontent.com)|142.251.163.132|:443... connected.\n",
      "HTTP request sent, awaiting response... 200 OK\n",
      "Length: 364021575 (347M) [application/octet-stream]\n",
      "Saving to: ‘wi.pkl’\n",
      "\n",
      "wi.pkl              100%[===================>] 347.16M  92.0MB/s    in 4.9s    \n",
      "\n",
      "2022-12-01 16:26:34 (71.2 MB/s) - ‘wi.pkl’ saved [364021575/364021575]\n",
      "\n"
     ]
    }
   ],
   "source": [
    "!wget --header=\"Host: doc-0s-6o-docs.googleusercontent.com\" --header=\"User-Agent: Mozilla/5.0 (Windows NT 10.0; Win64; x64) AppleWebKit/537.36 (KHTML, like Gecko) Chrome/107.0.0.0 Safari/537.36 Edg/107.0.1418.62\" --header=\"Accept: text/html,application/xhtml+xml,application/xml;q=0.9,image/webp,image/apng,*/*;q=0.8,application/signed-exchange;v=b3;q=0.9\" --header=\"Accept-Language: en-US,en;q=0.9\" --header=\"Cookie: AUTH_q396glqdcuo3cgp14o8502qdk4gju650=17060459648485421300|1669911900000|d6n2395m95tepml6o7ikddt1mi9k2v1v\" --header=\"Connection: keep-alive\" \"https://doc-0s-6o-docs.googleusercontent.com/docs/securesc/6fglfng6gsfg8svq9gbkvr4bflmoufjj/f427fpn9p40gcm6bmd4pbok61qi93sge/1669911900000/17060459648485421300/17060459648485421300/1-4Fq9dlYz46myF9wA3rd_CzUEu821pEx?e=download&ax=AEKYgyR8gku1kmIMRFsdZ8znAoF3k-Inq7qZwu0DANqSVuGmdcJn5MPXsiopkCqTEF6LcdhlMrzvXrtTSRNXMdUhkUBgKKIM8iU1I-sUBy4BpYXW291aDnEhTVYRxZ8LckTUsKYgdJUj_Ioz5-zhCPkow0SR2O_NxfuHxq5ef4fgfDKGNP1BgralOEOX7VX6hWMlEFKpQUNeDix5SlWfFqSsea0L1onRzoD1_foAaSVwaprEHMSGLvdqV2o7MZ42QF_ldz23vG52_9ytrYrJPm8xTjrNyeM94ra3aZVFTnSw9c3wyQ2DdaEHVV5_slEhsoou71ozQORoWxnVpTDydiN-Rs7tCg7xw0vTmrketIOgNmprBz5OP1G2rYspl6VPHa38kvhSVCoSxuAnGMhvAjfcWcoxywSHOm8VC_s9Mh9PXZbAyg8iSIWLFLZy3L7i9mRq67LnjFExq4a6aE0BMP5G47vYEw58PpSudrFYqAkDOyvsAuhP_p40hTqRy9TJodfK702y41-SsRKfyfvmDbAXz3B9wE4cNxPPcYEED1mo3JEnZVATrBxfJkKHpdHiGQ5x26Xh2Xj5zVVY8HE6x-TUqwRQL3EEyodWkzfG_PO5LmFXo6JBPALOW36I7IEuxf7nIGEWoKi9eYWDQEc0FDZUgygYrc82ndCI1h7NRQj8IkOE1DFP6SrUOHx4IlUpRY6Cdb3sh2azXVprcn6MIiprOtzK_auEiT-slQqerQ2wXE-9kWHvr7zyKjD3QlPErDGFgT-4QsXLwUmbGoSKHcf8W7V7rw6pv-3KHmSRV6BYZG2X7Pu4AyfHaJAozW_qxq6iP_op3L1ptw8DMou_GMuODX129C1n4mTV3bcBlSHByn0eotU0fUAjI6FD3j7cdDeS8aW6bIzphpi9yEKK282GdNVCnx3gu5mejJ7KUBC1aGWgHM3fiPPW3J2Q_WGTK5GDuqkro835yxtRtV-43Wswp23NUfFwu6PVCpF0J_uAK1M8X9cc3oCLT3huZfPWovvsiCsUeFEw4IJPszSuZoqisGgvX2SqVjnwQCDTw8po1XS1NTu-ceQ&uuid=738779d4-3480-446a-9b37-1a4e4cee9e7f&authuser=2\" -c -O 'wi.pkl'"
   ]
  },
  {
   "attachments": {},
   "cell_type": "markdown",
   "id": "23b3b324",
   "metadata": {},
   "source": [
    "### Reading in the file."
   ]
  },
  {
   "cell_type": "code",
   "execution_count": 7,
   "id": "d9fcf610-adc5-49c6-9acc-230ebe4a707e",
   "metadata": {},
   "outputs": [],
   "source": [
    "import pandas as pd\n",
    "import numpy as np\n",
    "data = pd.read_csv('training_batch_800_809.csv')"
   ]
  },
  {
   "attachments": {},
   "cell_type": "markdown",
   "id": "bb409b7f",
   "metadata": {},
   "source": [
    "### Split the data"
   ]
  },
  {
   "cell_type": "code",
   "execution_count": 8,
   "id": "708c320e-6d5b-4987-94d0-767ffbda56e3",
   "metadata": {
    "tags": []
   },
   "outputs": [],
   "source": [
    "from sklearn.model_selection import train_test_split\n",
    "train, test = train_test_split(data, test_size=0.3, random_state=42, shuffle=True)"
   ]
  },
  {
   "attachments": {},
   "cell_type": "markdown",
   "id": "f5d224a6",
   "metadata": {},
   "source": [
    "### Tokenize the data\n",
    "We will set the `max_features` to encode the data. And max sentence size to 250. "
   ]
  },
  {
   "cell_type": "code",
   "execution_count": 9,
   "id": "e02aa0f4-cd16-4fad-8974-f06379126c5c",
   "metadata": {
    "tags": []
   },
   "outputs": [],
   "source": [
    "from tensorflow.keras.preprocessing import text\n",
    "max_features = 283759\n",
    "maxlen = 250\n",
    "tokenizer = text.Tokenizer(num_words=max_features)\n",
    "tokenizer.fit_on_texts(train['AbstractText'].to_list())\n",
    "train_sequence = tokenizer.texts_to_sequences(train['AbstractText'].to_list())"
   ]
  },
  {
   "attachments": {},
   "cell_type": "markdown",
   "id": "9509cfeb",
   "metadata": {},
   "source": [
    "### Read the wi file\n",
    "The file contains all the words in the `BioWordVec_PubMed_MIMICIII_d200.vec.bin` Word2Vec model."
   ]
  },
  {
   "cell_type": "code",
   "execution_count": 11,
   "id": "1b5c5d3c-9b52-43e8-990b-45eae0abcf26",
   "metadata": {
    "tags": []
   },
   "outputs": [],
   "source": [
    "import pickle\n",
    "with open('wi.pkl','rb') as f:\n",
    "    ul = pickle.load(f)"
   ]
  },
  {
   "attachments": {},
   "cell_type": "markdown",
   "id": "e225700d",
   "metadata": {},
   "source": [
    "The remove word list that are not in the Word2Vec model."
   ]
  },
  {
   "cell_type": "code",
   "execution_count": 12,
   "id": "f1d664e0-cc77-4357-8715-919df5df519b",
   "metadata": {
    "tags": []
   },
   "outputs": [],
   "source": [
    "remove_set = set(tokenizer.word_index.keys()).difference(set(ul))\n",
    "remove_set = [tokenizer.word_index[i] for i in remove_set]"
   ]
  },
  {
   "attachments": {},
   "cell_type": "markdown",
   "id": "edd0253d",
   "metadata": {},
   "source": [
    "Vector subset is a subset of the word2vec model that has only those words in our training set mapped to their respective vectors."
   ]
  },
  {
   "cell_type": "code",
   "execution_count": 13,
   "id": "176ea112-ec67-4418-863b-698f8bdca308",
   "metadata": {
    "tags": []
   },
   "outputs": [],
   "source": [
    "import pickle\n",
    "with open('vector_subset.pkl','rb') as f:\n",
    "    vs = pickle.load(f)"
   ]
  },
  {
   "attachments": {},
   "cell_type": "markdown",
   "id": "bb79b166",
   "metadata": {},
   "source": [
    "Change the mapping into word to vector type dictionary."
   ]
  },
  {
   "cell_type": "code",
   "execution_count": 14,
   "id": "55643a2d-c17e-4b63-a7e9-c8615d3d9a5f",
   "metadata": {
    "tags": []
   },
   "outputs": [],
   "source": [
    "id_arr = {}\n",
    "for word, arr in vs.items():\n",
    "  if word in tokenizer.word_index:\n",
    "    id_arr[tokenizer.word_index[word]] = arr"
   ]
  },
  {
   "cell_type": "code",
   "execution_count": 16,
   "id": "f08e63b5-e9c5-4b7c-9b07-1b3739b09f7f",
   "metadata": {
    "tags": []
   },
   "outputs": [],
   "source": [
    "li = []\n",
    "for i in train_sequence:\n",
    "  li.append(np.array(i))"
   ]
  },
  {
   "attachments": {},
   "cell_type": "markdown",
   "id": "ca898cf6",
   "metadata": {},
   "source": [
    "The process function calculates the mean vector."
   ]
  },
  {
   "cell_type": "code",
   "execution_count": 18,
   "id": "7eed27d7-cb7c-45c2-acf8-a4691b64f8a4",
   "metadata": {
    "tags": []
   },
   "outputs": [],
   "source": [
    "def process(row):\n",
    "  reconstruct_arr = []\n",
    "  for j in row:\n",
    "    if j not in remove_set:\n",
    "      reconstruct_arr.append(id_arr[j])\n",
    "  if len(reconstruct_arr) > 0:\n",
    "    return np.mean(reconstruct_arr, axis=0)\n",
    "  return None"
   ]
  },
  {
   "cell_type": "code",
   "execution_count": 22,
   "id": "6e24257c-10de-432a-a1bc-4d0782a6fe08",
   "metadata": {
    "tags": []
   },
   "outputs": [],
   "source": [
    "import multiprocessing\n",
    "n_workers = multiprocessing.cpu_count()"
   ]
  },
  {
   "cell_type": "code",
   "execution_count": 23,
   "id": "4a1eadee-4cbe-4558-8c95-34b4deeb9dd6",
   "metadata": {
    "tags": []
   },
   "outputs": [
    {
     "data": {
      "text/plain": [
       "16"
      ]
     },
     "execution_count": 23,
     "metadata": {},
     "output_type": "execute_result"
    }
   ],
   "source": [
    "n_workers"
   ]
  },
  {
   "attachments": {},
   "cell_type": "markdown",
   "id": "501002d4",
   "metadata": {},
   "source": [
    "Apply the function parallely to the Series using all the available cores. Else it will take many many hours."
   ]
  },
  {
   "cell_type": "code",
   "execution_count": 30,
   "id": "e1fc779f-5cb6-4336-8ff9-01f4fb6361d6",
   "metadata": {
    "tags": []
   },
   "outputs": [
    {
     "name": "stdout",
     "output_type": "stream",
     "text": [
      "Keyring is skipped due to an exception: 'keyring.backends'\n",
      "Collecting pandarallel\n",
      "  Downloading pandarallel-1.6.3.tar.gz (12 kB)\n",
      "  Preparing metadata (setup.py) ... \u001b[?25ldone\n",
      "\u001b[?25hRequirement already satisfied: dill>=0.3.1 in /opt/conda/lib/python3.7/site-packages (from pandarallel) (0.3.6)\n",
      "Requirement already satisfied: pandas>=1 in /opt/conda/lib/python3.7/site-packages (from pandarallel) (1.3.5)\n",
      "Requirement already satisfied: psutil in /opt/conda/lib/python3.7/site-packages (from pandarallel) (5.6.7)\n",
      "Requirement already satisfied: numpy>=1.17.3 in /opt/conda/lib/python3.7/site-packages (from pandas>=1->pandarallel) (1.21.6)\n",
      "Requirement already satisfied: pytz>=2017.3 in /opt/conda/lib/python3.7/site-packages (from pandas>=1->pandarallel) (2019.3)\n",
      "Requirement already satisfied: python-dateutil>=2.7.3 in /opt/conda/lib/python3.7/site-packages (from pandas>=1->pandarallel) (2.8.2)\n",
      "Requirement already satisfied: six>=1.5 in /opt/conda/lib/python3.7/site-packages (from python-dateutil>=2.7.3->pandas>=1->pandarallel) (1.14.0)\n",
      "Building wheels for collected packages: pandarallel\n",
      "  Building wheel for pandarallel (setup.py) ... \u001b[?25ldone\n",
      "\u001b[?25h  Created wheel for pandarallel: filename=pandarallel-1.6.3-py3-none-any.whl size=16463 sha256=0568e61a767dd0943b6f953e77586035fafa39e7f843996771e3caf1c7a69dd3\n",
      "  Stored in directory: /root/.cache/pip/wheels/2f/0c/b6/43bd63ffb1b3a024d96d7f390d7c2dfff9cda5535aea21c2a9\n",
      "Successfully built pandarallel\n",
      "Installing collected packages: pandarallel\n",
      "Successfully installed pandarallel-1.6.3\n",
      "\u001b[33mWARNING: Running pip as the 'root' user can result in broken permissions and conflicting behaviour with the system package manager. It is recommended to use a virtual environment instead: https://pip.pypa.io/warnings/venv\u001b[0m\u001b[33m\n",
      "\u001b[0m"
     ]
    }
   ],
   "source": [
    "!pip install pandarallel"
   ]
  },
  {
   "cell_type": "code",
   "execution_count": null,
   "id": "cdd4de9e-73f6-4040-985f-f97fa7edc7ee",
   "metadata": {
    "tags": []
   },
   "outputs": [
    {
     "name": "stdout",
     "output_type": "stream",
     "text": [
      "INFO: Pandarallel will run on 16 workers.\n",
      "INFO: Pandarallel will use Memory file system to transfer data between the main process and workers.\n"
     ]
    },
    {
     "data": {
      "application/vnd.jupyter.widget-view+json": {
       "model_id": "5c3081955dae42698ce6f96891683bf8",
       "version_major": 2,
       "version_minor": 0
      },
      "text/plain": [
       "VBox(children=(HBox(children=(IntProgress(value=0, description='0.00%', max=8724), Label(value='0 / 8724'))), …"
      ]
     },
     "metadata": {},
     "output_type": "display_data"
    }
   ],
   "source": [
    "from pandarallel import pandarallel\n",
    "\n",
    "pandarallel.initialize(progress_bar=True, nb_workers=n_workers)\n",
    "\n",
    "result = pd.Series(li).parallel_apply(lambda x: process(x))\n"
   ]
  },
  {
   "attachments": {},
   "cell_type": "markdown",
   "id": "2a70b899",
   "metadata": {},
   "source": [
    "Save the result to S3"
   ]
  },
  {
   "cell_type": "code",
   "execution_count": 39,
   "id": "c9d4d03a-09a2-4648-824f-07a4cad05d77",
   "metadata": {
    "tags": []
   },
   "outputs": [],
   "source": [
    "import pickle\n",
    "\n",
    "with open('result.pkl', 'wb') as f:\n",
    "    pickle.dump(result, f)"
   ]
  },
  {
   "cell_type": "code",
   "execution_count": 40,
   "id": "8083638a-ba98-4ed5-8a2a-69e191df21f6",
   "metadata": {
    "tags": []
   },
   "outputs": [],
   "source": [
    "import logging\n",
    "import boto3\n",
    "from botocore.exceptions import ClientError\n",
    "import os\n",
    "\n",
    "\n",
    "def upload_file(file_name, bucket, object_name=None):\n",
    "    \"\"\"Upload a file to an S3 bucket\n",
    "\n",
    "    :param file_name: File to upload\n",
    "    :param bucket: Bucket to upload to\n",
    "    :param object_name: S3 object name. If not specified then file_name is used\n",
    "    :return: True if file was uploaded, else False\n",
    "    \"\"\"\n",
    "\n",
    "    # If S3 object_name was not specified, use file_name\n",
    "    if object_name is None:\n",
    "        object_name = os.path.basename(file_name)\n",
    "\n",
    "    # Upload the file\n",
    "    s3_client = boto3.client('s3')\n",
    "    try:\n",
    "        response = s3_client.upload_file(file_name, bucket, object_name)\n",
    "    except ClientError as e:\n",
    "        logging.error(e)\n",
    "        return False\n",
    "    return True"
   ]
  },
  {
   "cell_type": "code",
   "execution_count": 41,
   "id": "d1de805a-2f9d-41de-9fa1-b8f112bc903f",
   "metadata": {
    "tags": []
   },
   "outputs": [],
   "source": [
    "s3 = boto3.client('s3')\n",
    "with open(\"result.pkl\", \"rb\") as f:\n",
    "    s3.upload_fileobj(f, \"wherewillway\", \"result.pkl\")"
   ]
  },
  {
   "attachments": {},
   "cell_type": "markdown",
   "id": "ae0e7244",
   "metadata": {},
   "source": [
    "Export result to CSV file"
   ]
  },
  {
   "cell_type": "code",
   "execution_count": 101,
   "id": "2da47288-cf40-4d7c-80b7-f13905b93e5d",
   "metadata": {
    "tags": []
   },
   "outputs": [
    {
     "name": "stderr",
     "output_type": "stream",
     "text": [
      "100%|██████████| 139575/139575 [30:13<00:00, 76.98it/s]\n"
     ]
    }
   ],
   "source": [
    "from tqdm import tqdm\n",
    "for i in tqdm(result):\n",
    "    if i is not None:\n",
    "        row = pd.DataFrame(i.reshape(1,-1))\n",
    "    else:\n",
    "        row = pd.DataFrame([None]*result[0].shape[0]).T\n",
    "    w2vec_data = w2vec_data.append(row)"
   ]
  },
  {
   "cell_type": "code",
   "execution_count": 104,
   "id": "821169ac-df63-409d-804d-394ea177066f",
   "metadata": {
    "tags": []
   },
   "outputs": [],
   "source": [
    "w2vec_data.to_csv('pretrained_extract_data.csv',index=False)"
   ]
  },
  {
   "cell_type": "code",
   "execution_count": 105,
   "id": "edaa8d74-b47b-4cbf-9053-c6278ea402b3",
   "metadata": {
    "tags": []
   },
   "outputs": [],
   "source": [
    "s3 = boto3.client('s3')\n",
    "with open(\"pretrained_extract_data.csv\", \"rb\") as f:\n",
    "    s3.upload_fileobj(f, \"wherewillway\", \"pretrained_extract_data.csv\")"
   ]
  }
 ],
 "metadata": {
  "instance_type": "ml.m5.4xlarge",
  "kernelspec": {
   "display_name": "Python 3.10.7 64-bit",
   "language": "python",
   "name": "python3"
  },
  "language_info": {
   "codemirror_mode": {
    "name": "ipython",
    "version": 3
   },
   "file_extension": ".py",
   "mimetype": "text/x-python",
   "name": "python",
   "nbconvert_exporter": "python",
   "pygments_lexer": "ipython3",
   "version": "3.10.7"
  },
  "vscode": {
   "interpreter": {
    "hash": "9c8f51c2bcd99038a123efae1ee7756ea171a50d229ddf75d24cb86cabf1426c"
   }
  }
 },
 "nbformat": 4,
 "nbformat_minor": 5
}
